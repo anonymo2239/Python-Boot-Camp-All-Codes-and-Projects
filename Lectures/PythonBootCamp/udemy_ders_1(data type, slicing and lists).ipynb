{
 "cells": [
  {
   "cell_type": "code",
   "execution_count": 1,
   "id": "fbeff9bd",
   "metadata": {},
   "outputs": [],
   "source": [
    "brianJohnson = ['a', 2, \"Afyonlu\", 4, 23]"
   ]
  },
  {
   "cell_type": "code",
   "execution_count": 2,
   "id": "d015e03d",
   "metadata": {},
   "outputs": [
    {
     "data": {
      "text/plain": [
       "'Afyonlu'"
      ]
     },
     "execution_count": 2,
     "metadata": {},
     "output_type": "execute_result"
    }
   ],
   "source": [
    "brianJohnson[2]"
   ]
  },
  {
   "cell_type": "code",
   "execution_count": 3,
   "id": "67d52815",
   "metadata": {},
   "outputs": [
    {
     "data": {
      "text/plain": [
       "list"
      ]
     },
     "execution_count": 3,
     "metadata": {},
     "output_type": "execute_result"
    }
   ],
   "source": [
    "type(brianJohnson)"
   ]
  },
  {
   "cell_type": "code",
   "execution_count": 4,
   "id": "588bcde5",
   "metadata": {},
   "outputs": [
    {
     "data": {
      "text/plain": [
       "'AFYONLU'"
      ]
     },
     "execution_count": 4,
     "metadata": {},
     "output_type": "execute_result"
    }
   ],
   "source": [
    "brianJohnson[2].upper()"
   ]
  },
  {
   "cell_type": "code",
   "execution_count": 5,
   "id": "5b21d3c5",
   "metadata": {},
   "outputs": [],
   "source": [
    "johnKrasinski = \"Alperen Arda\""
   ]
  },
  {
   "cell_type": "code",
   "execution_count": 6,
   "id": "4e2a430a",
   "metadata": {},
   "outputs": [
    {
     "data": {
      "text/plain": [
       "2"
      ]
     },
     "execution_count": 6,
     "metadata": {},
     "output_type": "execute_result"
    }
   ],
   "source": [
    "johnKrasinski.count(\"e\")"
   ]
  },
  {
   "cell_type": "code",
   "execution_count": 7,
   "id": "22e8940a",
   "metadata": {},
   "outputs": [
    {
     "name": "stdout",
     "output_type": "stream",
     "text": [
      "Help on built-in function split:\n",
      "\n",
      "split(sep=None, maxsplit=-1) method of builtins.str instance\n",
      "    Return a list of the substrings in the string, using sep as the separator string.\n",
      "    \n",
      "      sep\n",
      "        The separator used to split the string.\n",
      "    \n",
      "        When set to None (the default value), will split on any whitespace\n",
      "        character (including \\\\n \\\\r \\\\t \\\\f and spaces) and will discard\n",
      "        empty strings from the result.\n",
      "      maxsplit\n",
      "        Maximum number of splits (starting from the left).\n",
      "        -1 (the default value) means no limit.\n",
      "    \n",
      "    Note, str.split() is mainly useful for data that has been intentionally\n",
      "    delimited.  With natural text that includes punctuation, consider using\n",
      "    the regular expression module.\n",
      "\n"
     ]
    }
   ],
   "source": [
    "help(johnKrasinski.split)"
   ]
  },
  {
   "cell_type": "code",
   "execution_count": 8,
   "id": "b156ab94",
   "metadata": {},
   "outputs": [],
   "source": [
    "jenna_fischer = johnKrasinski.split()"
   ]
  },
  {
   "cell_type": "code",
   "execution_count": 9,
   "id": "06cb0543",
   "metadata": {},
   "outputs": [
    {
     "data": {
      "text/plain": [
       "list"
      ]
     },
     "execution_count": 9,
     "metadata": {},
     "output_type": "execute_result"
    }
   ],
   "source": [
    "type(jenna_fischer)"
   ]
  },
  {
   "cell_type": "code",
   "execution_count": 10,
   "id": "415ced12",
   "metadata": {},
   "outputs": [
    {
     "data": {
      "text/plain": [
       "str"
      ]
     },
     "execution_count": 10,
     "metadata": {},
     "output_type": "execute_result"
    }
   ],
   "source": [
    "type(jenna_fischer[0])"
   ]
  },
  {
   "cell_type": "code",
   "execution_count": 11,
   "id": "9a615be1",
   "metadata": {},
   "outputs": [
    {
     "data": {
      "text/plain": [
       "'Arda'"
      ]
     },
     "execution_count": 11,
     "metadata": {},
     "output_type": "execute_result"
    }
   ],
   "source": [
    "jenna_fischer[-1]"
   ]
  },
  {
   "cell_type": "code",
   "execution_count": 12,
   "id": "ccb90b59",
   "metadata": {},
   "outputs": [
    {
     "data": {
      "text/plain": [
       "'Alperen'"
      ]
     },
     "execution_count": 12,
     "metadata": {},
     "output_type": "execute_result"
    }
   ],
   "source": [
    "jenna_fischer[-2]"
   ]
  },
  {
   "cell_type": "code",
   "execution_count": 13,
   "id": "8e654ba9",
   "metadata": {},
   "outputs": [
    {
     "data": {
      "text/plain": [
       "(None, None, None)"
      ]
     },
     "execution_count": 13,
     "metadata": {},
     "output_type": "execute_result"
    }
   ],
   "source": [
    "jenna_fischer.append(20), jenna_fischer.append(50), jenna_fischer.append(50.45)"
   ]
  },
  {
   "cell_type": "code",
   "execution_count": 14,
   "id": "382e949c",
   "metadata": {},
   "outputs": [
    {
     "data": {
      "text/plain": [
       "['Alperen', 'Arda', 20, 50, 50.45]"
      ]
     },
     "execution_count": 14,
     "metadata": {},
     "output_type": "execute_result"
    }
   ],
   "source": [
    "jenna_fischer"
   ]
  },
  {
   "cell_type": "code",
   "execution_count": 15,
   "id": "d4210c11",
   "metadata": {},
   "outputs": [],
   "source": [
    "jenna_fischer.reverse()"
   ]
  },
  {
   "cell_type": "code",
   "execution_count": 16,
   "id": "dd0fb47f",
   "metadata": {},
   "outputs": [
    {
     "data": {
      "text/plain": [
       "[50.45, 50, 20, 'Arda', 'Alperen']"
      ]
     },
     "execution_count": 16,
     "metadata": {},
     "output_type": "execute_result"
    }
   ],
   "source": [
    "jenna_fischer"
   ]
  },
  {
   "cell_type": "code",
   "execution_count": 17,
   "id": "cffe0633",
   "metadata": {},
   "outputs": [
    {
     "data": {
      "text/plain": [
       "3"
      ]
     },
     "execution_count": 17,
     "metadata": {},
     "output_type": "execute_result"
    }
   ],
   "source": [
    "jenna_fischer.index(\"Arda\")"
   ]
  },
  {
   "cell_type": "code",
   "execution_count": 18,
   "id": "78695041",
   "metadata": {},
   "outputs": [],
   "source": [
    "jenna_fischer.insert(2,88)"
   ]
  },
  {
   "cell_type": "code",
   "execution_count": 19,
   "id": "3a20e3fb",
   "metadata": {},
   "outputs": [],
   "source": [
    "jenna_fischer.remove(20)"
   ]
  },
  {
   "cell_type": "code",
   "execution_count": 20,
   "id": "1fbe74d7",
   "metadata": {},
   "outputs": [],
   "source": [
    "jenna_fischer.reverse()"
   ]
  },
  {
   "cell_type": "code",
   "execution_count": 21,
   "id": "20bfb914",
   "metadata": {},
   "outputs": [
    {
     "data": {
      "text/plain": [
       "['Alperen', 'Arda', 88, 50, 50.45]"
      ]
     },
     "execution_count": 21,
     "metadata": {},
     "output_type": "execute_result"
    }
   ],
   "source": [
    "jenna_fischer"
   ]
  },
  {
   "cell_type": "code",
   "execution_count": 22,
   "id": "fdaa25fc",
   "metadata": {},
   "outputs": [],
   "source": [
    "jenna_fischer.remove(\"Alperen\")"
   ]
  },
  {
   "cell_type": "code",
   "execution_count": 23,
   "id": "1768f447",
   "metadata": {},
   "outputs": [],
   "source": [
    "jenna_fischer.remove(\"Arda\")"
   ]
  },
  {
   "cell_type": "code",
   "execution_count": 24,
   "id": "6795ad5e",
   "metadata": {},
   "outputs": [],
   "source": [
    "jenna_fischer.sort()"
   ]
  },
  {
   "cell_type": "code",
   "execution_count": 25,
   "id": "01a9e089",
   "metadata": {},
   "outputs": [
    {
     "data": {
      "text/plain": [
       "[50, 50.45, 88]"
      ]
     },
     "execution_count": 25,
     "metadata": {},
     "output_type": "execute_result"
    }
   ],
   "source": [
    "jenna_fischer"
   ]
  },
  {
   "cell_type": "code",
   "execution_count": 26,
   "id": "6f788cd0",
   "metadata": {},
   "outputs": [
    {
     "name": "stdout",
     "output_type": "stream",
     "text": [
      "[50, 50.45, 88]\n"
     ]
    }
   ],
   "source": [
    "print(jenna_fischer)"
   ]
  },
  {
   "cell_type": "code",
   "execution_count": 27,
   "id": "81beced3",
   "metadata": {},
   "outputs": [
    {
     "name": "stdout",
     "output_type": "stream",
     "text": [
      "X sayisini giriniz:50\n"
     ]
    }
   ],
   "source": [
    "x = input(\"X sayisini giriniz:\")"
   ]
  }
 ],
 "metadata": {
  "kernelspec": {
   "display_name": "Python 3 (ipykernel)",
   "language": "python",
   "name": "python3"
  },
  "language_info": {
   "codemirror_mode": {
    "name": "ipython",
    "version": 3
   },
   "file_extension": ".py",
   "mimetype": "text/x-python",
   "name": "python",
   "nbconvert_exporter": "python",
   "pygments_lexer": "ipython3",
   "version": "3.10.9"
  }
 },
 "nbformat": 4,
 "nbformat_minor": 5
}
