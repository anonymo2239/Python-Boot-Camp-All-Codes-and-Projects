{
 "cells": [
  {
   "cell_type": "markdown",
   "id": "0456bf7c",
   "metadata": {},
   "source": [
    "# Handling Errors"
   ]
  },
  {
   "cell_type": "code",
   "execution_count": 10,
   "id": "ec1e8e56",
   "metadata": {},
   "outputs": [],
   "source": [
    "age = input(\"Enter age: \")"
   ]
  },
  {
   "cell_type": "code",
   "execution_count": 11,
   "id": "ae741eca",
   "metadata": {},
   "outputs": [
    {
     "data": {
      "text/plain": [
       "'19'"
      ]
     },
     "execution_count": 11,
     "metadata": {},
     "output_type": "execute_result"
    }
   ],
   "source": [
    "age"
   ]
  },
  {
   "cell_type": "code",
   "execution_count": 12,
   "id": "e404e532",
   "metadata": {},
   "outputs": [
    {
     "data": {
      "text/plain": [
       "38"
      ]
     },
     "execution_count": 12,
     "metadata": {},
     "output_type": "execute_result"
    }
   ],
   "source": [
    "int(age) * 2"
   ]
  },
  {
   "cell_type": "code",
   "execution_count": 13,
   "id": "9b160239",
   "metadata": {},
   "outputs": [],
   "source": [
    "#try - except --> hata vermemesi icin if-else gibi calisir."
   ]
  },
  {
   "cell_type": "code",
   "execution_count": 14,
   "id": "67bd2974",
   "metadata": {},
   "outputs": [
    {
     "name": "stdout",
     "output_type": "stream",
     "text": [
      "24\n"
     ]
    }
   ],
   "source": [
    "try:\n",
    "    myAge = print(int(input(\"Enter your age: \")) * 2)\n",
    "except:\n",
    "    myAge = print(int(input(\"Enter your age!!!!(with numbers!!!)\")) * 2)\n",
    "#except ValueError: yaparak hatalari siniflandirabiliriz."
   ]
  },
  {
   "cell_type": "code",
   "execution_count": 36,
   "id": "513b90fd",
   "metadata": {},
   "outputs": [
    {
     "name": "stdout",
     "output_type": "stream",
     "text": [
      "Enter your age!!!!(with numbers!!!)\n",
      "finally\n",
      "Enter your age!!!!(with numbers!!!)\n",
      "finally\n",
      "Enter your age!!!!(with numbers!!!)\n",
      "finally\n",
      "Enter your age!!!!(with numbers!!!)\n",
      "finally\n",
      "Enter your age!!!!(with numbers!!!)\n",
      "finally\n",
      "Enter your age!!!!(with numbers!!!)\n",
      "finally\n",
      "Enter your age!!!!(with numbers!!!)\n",
      "finally\n",
      "Enter your age!!!!(with numbers!!!)\n",
      "finally\n",
      "Enter your age!!!!(with numbers!!!)\n",
      "finally\n",
      "Enter your age!!!!(with numbers!!!)\n",
      "finally\n",
      "Enter your age!!!!(with numbers!!!)\n",
      "finally\n",
      "Enter your age!!!!(with numbers!!!)\n",
      "finally\n",
      "Enter your age!!!!(with numbers!!!)\n",
      "finally\n",
      "Enter your age!!!!(with numbers!!!)\n",
      "finally\n",
      "Enter your age!!!!(with numbers!!!)\n",
      "finally\n",
      "Enter your age!!!!(with numbers!!!)\n",
      "finally\n",
      "Enter your age!!!!(with numbers!!!)\n",
      "finally\n",
      "Enter your age!!!!(with numbers!!!)\n",
      "finally\n",
      "Enter your age!!!!(with numbers!!!)\n",
      "finally\n",
      "Enter your age!!!!(with numbers!!!)\n",
      "finally\n",
      "Enter your age!!!!(with numbers!!!)\n",
      "finally\n",
      "Enter your age!!!!(with numbers!!!)\n",
      "finally\n",
      "8\n",
      "finally\n"
     ]
    }
   ],
   "source": [
    "while True:\n",
    "    try:\n",
    "        myAge = print(int(input(\"Enter your age: \")) * 2)\n",
    "        break\n",
    "    except:\n",
    "        myAge = print(\"Enter your age!!!!(with numbers!!!)\")\n",
    "    else:\n",
    "        print(\"else executed\")\n",
    "    finally:\n",
    "        print(\"finally\")\n",
    "#finally komutu ne olursa olsun calisiyor\n",
    "#else komutu sadece break komutunu koyabilmeye yariyor ama su anlik try'a break komutunu yazmak bizim\n",
    "#icin sorun olmaz"
   ]
  },
  {
   "cell_type": "code",
   "execution_count": null,
   "id": "3ee2f6e0",
   "metadata": {},
   "outputs": [],
   "source": []
  },
  {
   "cell_type": "markdown",
   "id": "8cf59d0c",
   "metadata": {},
   "source": [
    "# Files"
   ]
  },
  {
   "cell_type": "code",
   "execution_count": 16,
   "id": "b4e628dd",
   "metadata": {},
   "outputs": [
    {
     "name": "stdout",
     "output_type": "stream",
     "text": [
      "Overwriting myfile.txt\n"
     ]
    }
   ],
   "source": [
    "%%writefile myfile.txt\n",
    "test 1\n",
    "test 2\n",
    "test 3"
   ]
  },
  {
   "cell_type": "code",
   "execution_count": 17,
   "id": "ad363219",
   "metadata": {},
   "outputs": [],
   "source": [
    "myFile = open(\"myFile.txt\")\n",
    "#EGER MYFILE VE UDEMY_DERS_10 DEFTERI AYNI DOSYADA OLMASA İDİ \n",
    "#\"myFile.txt\" yerine \"C:\\Users\\Alperen Arda\\Desktop\\PythonBootCamp\\myFile.txt\" yazmak zorundaydik"
   ]
  },
  {
   "cell_type": "code",
   "execution_count": 18,
   "id": "7b919d83",
   "metadata": {},
   "outputs": [
    {
     "data": {
      "text/plain": [
       "_io.TextIOWrapper"
      ]
     },
     "execution_count": 18,
     "metadata": {},
     "output_type": "execute_result"
    }
   ],
   "source": [
    "type(myFile)"
   ]
  },
  {
   "cell_type": "code",
   "execution_count": 19,
   "id": "1e108a12",
   "metadata": {},
   "outputs": [
    {
     "data": {
      "text/plain": [
       "'test 1\\ntest 2\\ntest 3\\n'"
      ]
     },
     "execution_count": 19,
     "metadata": {},
     "output_type": "execute_result"
    }
   ],
   "source": [
    "myFile.read()"
   ]
  },
  {
   "cell_type": "code",
   "execution_count": 20,
   "id": "817ef44e",
   "metadata": {},
   "outputs": [
    {
     "data": {
      "text/plain": [
       "''"
      ]
     },
     "execution_count": 20,
     "metadata": {},
     "output_type": "execute_result"
    }
   ],
   "source": [
    "myFile.read()\n",
    "#Bos vermesinin sebebi islemci okumada sona geliyor. -basa donmuyor- tekrar oku dedigimizde bos yer\n",
    "#okuyor. Bunun cozumu icin islemciyi tekrar basa dondurmeliyiz."
   ]
  },
  {
   "cell_type": "code",
   "execution_count": 21,
   "id": "1ed00bbb",
   "metadata": {},
   "outputs": [
    {
     "data": {
      "text/plain": [
       "0"
      ]
     },
     "execution_count": 21,
     "metadata": {},
     "output_type": "execute_result"
    }
   ],
   "source": [
    "myFile.seek(0)"
   ]
  },
  {
   "cell_type": "code",
   "execution_count": 22,
   "id": "5bae6f51",
   "metadata": {},
   "outputs": [
    {
     "data": {
      "text/plain": [
       "'test 1\\ntest 2\\ntest 3\\n'"
      ]
     },
     "execution_count": 22,
     "metadata": {},
     "output_type": "execute_result"
    }
   ],
   "source": [
    "myFile.read()"
   ]
  },
  {
   "cell_type": "code",
   "execution_count": 23,
   "id": "c4ea58a0",
   "metadata": {},
   "outputs": [],
   "source": [
    "myFile.close()\n",
    "#close demezsek program zortlayabilir."
   ]
  },
  {
   "cell_type": "code",
   "execution_count": 24,
   "id": "d680c5c5",
   "metadata": {},
   "outputs": [],
   "source": [
    "#az onceki ornek manuel bir kod idi. Simdi python un otomatik koduna bakalim."
   ]
  },
  {
   "cell_type": "code",
   "execution_count": 25,
   "id": "9b9d4a81",
   "metadata": {},
   "outputs": [],
   "source": [
    "with open(\"myfile.txt\") as myFile:\n",
    "    myContent = myFile.read()"
   ]
  },
  {
   "cell_type": "code",
   "execution_count": 26,
   "id": "65798b85",
   "metadata": {},
   "outputs": [
    {
     "data": {
      "text/plain": [
       "'test 1\\ntest 2\\ntest 3\\n'"
      ]
     },
     "execution_count": 26,
     "metadata": {},
     "output_type": "execute_result"
    }
   ],
   "source": [
    "myContent"
   ]
  },
  {
   "cell_type": "code",
   "execution_count": 27,
   "id": "b75b7360",
   "metadata": {},
   "outputs": [],
   "source": [
    "#with komutu python'da dosya islemleri icin bolca kullanilir\n",
    "#ve burada close, seek gibi komutlari kullanmamiza gerek yok."
   ]
  },
  {
   "cell_type": "code",
   "execution_count": 28,
   "id": "a6285099",
   "metadata": {},
   "outputs": [],
   "source": [
    "with open(\"myFile.txt\",mode = \"w\") as myNewFile:\n",
    "    myNewFile.write(\"test4\")\n",
    "#mode = \"w\" ---> write dedigimizde bu dosyayi yazmak icin aciyorum anlamina geliyor.\n",
    "#mode = \"r\" ---> read\n",
    "#mode = \"a\" ---> append"
   ]
  },
  {
   "cell_type": "code",
   "execution_count": 29,
   "id": "d6817252",
   "metadata": {},
   "outputs": [],
   "source": [
    "with open(\"myFile.txt\",mode = \"r\") as myFile2:\n",
    "    myContent = myFile2.read()"
   ]
  },
  {
   "cell_type": "code",
   "execution_count": 30,
   "id": "96e3428e",
   "metadata": {},
   "outputs": [
    {
     "data": {
      "text/plain": [
       "'test4'"
      ]
     },
     "execution_count": 30,
     "metadata": {},
     "output_type": "execute_result"
    }
   ],
   "source": [
    "myContent"
   ]
  },
  {
   "cell_type": "code",
   "execution_count": 31,
   "id": "5cf862d0",
   "metadata": {},
   "outputs": [],
   "source": [
    "with open(\"myfile.txt\",mode = \"a\") as myNewFile3:\n",
    "    myNewFile3.write(\"test 5\")"
   ]
  },
  {
   "cell_type": "code",
   "execution_count": 32,
   "id": "515b234e",
   "metadata": {},
   "outputs": [],
   "source": [
    "with open(\"myFile.txt\",mode = \"r\") as myFile2:\n",
    "    myContent = myFile2.read()"
   ]
  },
  {
   "cell_type": "code",
   "execution_count": 33,
   "id": "ba1cfb0f",
   "metadata": {},
   "outputs": [
    {
     "data": {
      "text/plain": [
       "'test4test 5'"
      ]
     },
     "execution_count": 33,
     "metadata": {},
     "output_type": "execute_result"
    }
   ],
   "source": [
    "myContent"
   ]
  },
  {
   "cell_type": "code",
   "execution_count": 34,
   "id": "eb6748a0",
   "metadata": {},
   "outputs": [
    {
     "name": "stdout",
     "output_type": "stream",
     "text": [
      "test4test 5\n"
     ]
    }
   ],
   "source": [
    "print(myContent)"
   ]
  },
  {
   "cell_type": "code",
   "execution_count": 35,
   "id": "878a9fa6",
   "metadata": {},
   "outputs": [
    {
     "data": {
      "text/plain": [
       "str"
      ]
     },
     "execution_count": 35,
     "metadata": {},
     "output_type": "execute_result"
    }
   ],
   "source": [
    "type(myContent)"
   ]
  },
  {
   "cell_type": "code",
   "execution_count": null,
   "id": "90af4c3a",
   "metadata": {},
   "outputs": [],
   "source": []
  }
 ],
 "metadata": {
  "kernelspec": {
   "display_name": "Python 3 (ipykernel)",
   "language": "python",
   "name": "python3"
  },
  "language_info": {
   "codemirror_mode": {
    "name": "ipython",
    "version": 3
   },
   "file_extension": ".py",
   "mimetype": "text/x-python",
   "name": "python",
   "nbconvert_exporter": "python",
   "pygments_lexer": "ipython3",
   "version": "3.11.5"
  }
 },
 "nbformat": 4,
 "nbformat_minor": 5
}
