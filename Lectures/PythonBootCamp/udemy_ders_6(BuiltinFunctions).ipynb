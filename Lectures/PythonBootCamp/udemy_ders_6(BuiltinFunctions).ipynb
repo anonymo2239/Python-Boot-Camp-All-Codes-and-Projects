{
 "cells": [
  {
   "cell_type": "code",
   "execution_count": 1,
   "id": "f08c7a45",
   "metadata": {},
   "outputs": [],
   "source": [
    "alperens_list = [10,20,30,40,50,60]"
   ]
  },
  {
   "cell_type": "code",
   "execution_count": 2,
   "id": "74d09ee8",
   "metadata": {},
   "outputs": [
    {
     "name": "stdout",
     "output_type": "stream",
     "text": [
      "x/2 = 5.0\n",
      "x/2 = 10.0\n",
      "x/2 = 15.0\n",
      "x/2 = 20.0\n",
      "x/2 = 25.0\n",
      "x/2 = 30.0\n"
     ]
    }
   ],
   "source": [
    "for x in alperens_list:\n",
    "    print(f\"x/2 = {x/2}\")"
   ]
  },
  {
   "cell_type": "code",
   "execution_count": 3,
   "id": "a1341ed4",
   "metadata": {},
   "outputs": [
    {
     "data": {
      "text/plain": [
       "range(0, 50)"
      ]
     },
     "execution_count": 3,
     "metadata": {},
     "output_type": "execute_result"
    }
   ],
   "source": [
    "range(0,50)"
   ]
  },
  {
   "cell_type": "code",
   "execution_count": 4,
   "id": "22c62c2c",
   "metadata": {},
   "outputs": [
    {
     "data": {
      "text/plain": [
       "[2, 3, 4, 5, 6, 7, 8, 9, 10]"
      ]
     },
     "execution_count": 4,
     "metadata": {},
     "output_type": "execute_result"
    }
   ],
   "source": [
    "list(range(2,11))"
   ]
  },
  {
   "cell_type": "code",
   "execution_count": 5,
   "id": "75f66907",
   "metadata": {},
   "outputs": [
    {
     "name": "stdout",
     "output_type": "stream",
     "text": [
      "8\n",
      "12\n",
      "16\n",
      "20\n"
     ]
    }
   ],
   "source": [
    "for num in list(range(4,12,2)):\n",
    "    print(num*2)\n",
    "    "
   ]
  },
  {
   "cell_type": "code",
   "execution_count": 6,
   "id": "a3d3ad7c",
   "metadata": {},
   "outputs": [
    {
     "name": "stdout",
     "output_type": "stream",
     "text": [
      "10\n",
      "20\n",
      "30\n",
      "40\n",
      "50\n",
      "60\n"
     ]
    }
   ],
   "source": [
    "for num in alperens_list:\n",
    "    print(num)"
   ]
  },
  {
   "cell_type": "code",
   "execution_count": 7,
   "id": "350b4d51",
   "metadata": {},
   "outputs": [
    {
     "name": "stdout",
     "output_type": "stream",
     "text": [
      "10\n",
      "20\n",
      "30\n",
      "40\n",
      "50\n",
      "60\n"
     ]
    }
   ],
   "source": [
    "for ix in range(len(alperens_list)):\n",
    "    print(alperens_list[ix])"
   ]
  },
  {
   "cell_type": "code",
   "execution_count": 8,
   "id": "fee129e3",
   "metadata": {},
   "outputs": [
    {
     "name": "stdout",
     "output_type": "stream",
     "text": [
      "(0, 10)\n",
      "(1, 20)\n",
      "(2, 30)\n",
      "(3, 40)\n",
      "(4, 50)\n",
      "(5, 60)\n"
     ]
    }
   ],
   "source": [
    "for element in enumerate(alperens_list):\n",
    "    print(element)"
   ]
  },
  {
   "cell_type": "code",
   "execution_count": 48,
   "id": "fcbbeb7b",
   "metadata": {},
   "outputs": [],
   "source": [
    "from random import randint"
   ]
  },
  {
   "cell_type": "code",
   "execution_count": 54,
   "id": "1dee7699",
   "metadata": {},
   "outputs": [
    {
     "data": {
      "text/plain": [
       "-17"
      ]
     },
     "execution_count": 54,
     "metadata": {},
     "output_type": "execute_result"
    }
   ],
   "source": [
    "randint(-47,12)"
   ]
  },
  {
   "cell_type": "code",
   "execution_count": 11,
   "id": "58ffa89c",
   "metadata": {},
   "outputs": [],
   "source": [
    "from random import shuffle"
   ]
  },
  {
   "cell_type": "code",
   "execution_count": 12,
   "id": "7b823f29",
   "metadata": {},
   "outputs": [],
   "source": [
    "shuffle(alperens_list)"
   ]
  },
  {
   "cell_type": "code",
   "execution_count": 13,
   "id": "05bdd4d5",
   "metadata": {},
   "outputs": [
    {
     "data": {
      "text/plain": [
       "[30, 20, 50, 40, 60, 10]"
      ]
     },
     "execution_count": 13,
     "metadata": {},
     "output_type": "execute_result"
    }
   ],
   "source": [
    "alperens_list"
   ]
  },
  {
   "cell_type": "code",
   "execution_count": 14,
   "id": "4025dcc3",
   "metadata": {},
   "outputs": [
    {
     "data": {
      "text/plain": [
       "20"
      ]
     },
     "execution_count": 14,
     "metadata": {},
     "output_type": "execute_result"
    }
   ],
   "source": [
    "alperens_list[randint(0,len(alperens_list)-1)]"
   ]
  },
  {
   "cell_type": "code",
   "execution_count": 15,
   "id": "3e53907c",
   "metadata": {},
   "outputs": [],
   "source": [
    "food_list = [\"apple\", \"banana\", \"melon\"]"
   ]
  },
  {
   "cell_type": "code",
   "execution_count": 16,
   "id": "1ca87419",
   "metadata": {},
   "outputs": [],
   "source": [
    "calories_list = [100, 150, 250]"
   ]
  },
  {
   "cell_type": "code",
   "execution_count": 17,
   "id": "d4794d8d",
   "metadata": {},
   "outputs": [],
   "source": [
    "day_list = [\"Monday\", \"Tuesday\", \"Wednesday\"]"
   ]
  },
  {
   "cell_type": "code",
   "execution_count": 18,
   "id": "7c41e7ff",
   "metadata": {},
   "outputs": [],
   "source": [
    "zipped_list = list(zip(food_list,calories_list,day_list))"
   ]
  },
  {
   "cell_type": "code",
   "execution_count": 19,
   "id": "a5788cfb",
   "metadata": {},
   "outputs": [
    {
     "data": {
      "text/plain": [
       "[('apple', 100, 'Monday'),\n",
       " ('banana', 150, 'Tuesday'),\n",
       " ('melon', 250, 'Wednesday')]"
      ]
     },
     "execution_count": 19,
     "metadata": {},
     "output_type": "execute_result"
    }
   ],
   "source": [
    "zipped_list"
   ]
  },
  {
   "cell_type": "code",
   "execution_count": 20,
   "id": "8925d70c",
   "metadata": {},
   "outputs": [],
   "source": [
    "newList = []\n",
    "cif = \"metallica\"\n",
    "for element in cif:\n",
    "    newList.append(element)"
   ]
  },
  {
   "cell_type": "code",
   "execution_count": 21,
   "id": "9eb2394c",
   "metadata": {},
   "outputs": [
    {
     "data": {
      "text/plain": [
       "['m', 'e', 't', 'a', 'l', 'l', 'i', 'c', 'a']"
      ]
     },
     "execution_count": 21,
     "metadata": {},
     "output_type": "execute_result"
    }
   ],
   "source": [
    "newList"
   ]
  },
  {
   "cell_type": "code",
   "execution_count": 22,
   "id": "a6141988",
   "metadata": {},
   "outputs": [],
   "source": [
    "#list comprehension"
   ]
  },
  {
   "cell_type": "code",
   "execution_count": 23,
   "id": "1fda3fb0",
   "metadata": {},
   "outputs": [],
   "source": [
    "newList = [element for element in cif]"
   ]
  },
  {
   "cell_type": "code",
   "execution_count": 24,
   "id": "ea5bd99d",
   "metadata": {},
   "outputs": [
    {
     "data": {
      "text/plain": [
       "['m', 'e', 't', 'a', 'l', 'l', 'i', 'c', 'a']"
      ]
     },
     "execution_count": 24,
     "metadata": {},
     "output_type": "execute_result"
    }
   ],
   "source": [
    "newList"
   ]
  },
  {
   "cell_type": "code",
   "execution_count": 25,
   "id": "9a2ccfb4",
   "metadata": {},
   "outputs": [],
   "source": [
    "fsdf = [10,20,30,40,50,60]\n",
    "newList.clear()"
   ]
  },
  {
   "cell_type": "code",
   "execution_count": 26,
   "id": "4ebb36cc",
   "metadata": {},
   "outputs": [],
   "source": [
    "for num in fsdf:\n",
    "    newList.append(num)"
   ]
  },
  {
   "cell_type": "code",
   "execution_count": 27,
   "id": "0f02972f",
   "metadata": {},
   "outputs": [
    {
     "data": {
      "text/plain": [
       "[10, 20, 30, 40, 50, 60]"
      ]
     },
     "execution_count": 27,
     "metadata": {},
     "output_type": "execute_result"
    }
   ],
   "source": [
    "newList"
   ]
  },
  {
   "cell_type": "code",
   "execution_count": null,
   "id": "46cfef01",
   "metadata": {},
   "outputs": [],
   "source": []
  },
  {
   "cell_type": "code",
   "execution_count": null,
   "id": "ad098b7f",
   "metadata": {},
   "outputs": [],
   "source": []
  }
 ],
 "metadata": {
  "kernelspec": {
   "display_name": "Python 3 (ipykernel)",
   "language": "python",
   "name": "python3"
  },
  "language_info": {
   "codemirror_mode": {
    "name": "ipython",
    "version": 3
   },
   "file_extension": ".py",
   "mimetype": "text/x-python",
   "name": "python",
   "nbconvert_exporter": "python",
   "pygments_lexer": "ipython3",
   "version": "3.10.9"
  }
 },
 "nbformat": 4,
 "nbformat_minor": 5
}
