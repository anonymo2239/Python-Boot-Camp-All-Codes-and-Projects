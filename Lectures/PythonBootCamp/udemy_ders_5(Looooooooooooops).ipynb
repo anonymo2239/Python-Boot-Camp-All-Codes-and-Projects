{
 "cells": [
  {
   "cell_type": "code",
   "execution_count": 1,
   "id": "450747b9",
   "metadata": {},
   "outputs": [],
   "source": [
    "listShow = [1,7,5,9,45,20,7,12,7,9,6,4]"
   ]
  },
  {
   "cell_type": "code",
   "execution_count": 2,
   "id": "e8210faa",
   "metadata": {},
   "outputs": [
    {
     "name": "stdout",
     "output_type": "stream",
     "text": [
      "5\n",
      "45\n",
      "20\n"
     ]
    }
   ],
   "source": [
    "for num in listShow:\n",
    "    if num % 5 == 0:\n",
    "        new_number = num\n",
    "        print(num)"
   ]
  },
  {
   "cell_type": "code",
   "execution_count": 3,
   "id": "6d79cbff",
   "metadata": {},
   "outputs": [
    {
     "name": "stdout",
     "output_type": "stream",
     "text": [
      "1\n",
      "7\n",
      "5\n",
      "9\n",
      "45\n",
      "20\n",
      "7\n",
      "12\n",
      "7\n",
      "9\n",
      "6\n",
      "4\n"
     ]
    }
   ],
   "source": [
    "for sec in listShow:\n",
    "    print(sec)"
   ]
  },
  {
   "cell_type": "code",
   "execution_count": 4,
   "id": "8f5825b7",
   "metadata": {},
   "outputs": [
    {
     "name": "stdout",
     "output_type": "stream",
     "text": [
      "a\n",
      "d\n",
      "e\n",
      "m\n",
      " \n",
      "a\n",
      "l\n",
      "p\n",
      "e\n",
      "r\n",
      "e\n",
      "n\n",
      " \n",
      "a\n",
      "r\n",
      "d\n",
      "a\n"
     ]
    }
   ],
   "source": [
    "for c in \"adem alperen arda\":\n",
    "    print(c)"
   ]
  },
  {
   "cell_type": "code",
   "execution_count": 49,
   "id": "10853007",
   "metadata": {},
   "outputs": [],
   "source": [
    "my_tuple = ((1,34),(3,4),(4,5),(6,7))"
   ]
  },
  {
   "cell_type": "code",
   "execution_count": 50,
   "id": "065e01c9",
   "metadata": {},
   "outputs": [
    {
     "name": "stdout",
     "output_type": "stream",
     "text": [
      "yardim seni\n",
      "yardim seni\n",
      "yardim seni\n",
      "yardim seni\n"
     ]
    }
   ],
   "source": [
    "for (a,b) in my_tuple:\n",
    "    print(\"yardim help\")"
   ]
  },
  {
   "cell_type": "code",
   "execution_count": 7,
   "id": "5b8866be",
   "metadata": {},
   "outputs": [],
   "source": [
    "my_dict = {\"k1\":1, \"k2\":2, \"k3\":3}"
   ]
  },
  {
   "cell_type": "code",
   "execution_count": 8,
   "id": "1247d72c",
   "metadata": {},
   "outputs": [
    {
     "name": "stdout",
     "output_type": "stream",
     "text": [
      "1\n",
      "2\n",
      "3\n"
     ]
    }
   ],
   "source": [
    "for (key, value) in my_dict.items():\n",
    "    print(value)"
   ]
  },
  {
   "cell_type": "code",
   "execution_count": 9,
   "id": "b63dcee3",
   "metadata": {},
   "outputs": [
    {
     "data": {
      "text/plain": [
       "dict_items([('k1', 1), ('k2', 2), ('k3', 3)])"
      ]
     },
     "execution_count": 9,
     "metadata": {},
     "output_type": "execute_result"
    }
   ],
   "source": [
    "my_dict.items()"
   ]
  },
  {
   "cell_type": "code",
   "execution_count": 10,
   "id": "f25f89cb",
   "metadata": {},
   "outputs": [],
   "source": [
    "my_list = [1,2,3]"
   ]
  },
  {
   "cell_type": "code",
   "execution_count": 11,
   "id": "4d9bf83e",
   "metadata": {},
   "outputs": [
    {
     "name": "stdout",
     "output_type": "stream",
     "text": [
      "1\n",
      "2\n",
      "3\n"
     ]
    }
   ],
   "source": [
    "for x in my_list:\n",
    "    print(x)"
   ]
  },
  {
   "cell_type": "code",
   "execution_count": 12,
   "id": "74a1f147",
   "metadata": {},
   "outputs": [
    {
     "name": "stdout",
     "output_type": "stream",
     "text": [
      "Enter the name: alponzo\n"
     ]
    }
   ],
   "source": [
    "name = input(\"Enter the name: \")"
   ]
  },
  {
   "cell_type": "code",
   "execution_count": 13,
   "id": "9176b710",
   "metadata": {},
   "outputs": [
    {
     "name": "stdout",
     "output_type": "stream",
     "text": [
      "Welcome alponzo\n"
     ]
    }
   ],
   "source": [
    "print(f\"Welcome {name}\")"
   ]
  },
  {
   "cell_type": "code",
   "execution_count": 14,
   "id": "e8a6177e",
   "metadata": {},
   "outputs": [
    {
     "name": "stdout",
     "output_type": "stream",
     "text": [
      "Welcome alponzo\n"
     ]
    }
   ],
   "source": [
    "print(\"Welcome\", name)"
   ]
  },
  {
   "cell_type": "code",
   "execution_count": 15,
   "id": "4b10a5b2",
   "metadata": {},
   "outputs": [
    {
     "name": "stdout",
     "output_type": "stream",
     "text": [
      "Value of t: 1\n",
      "Value of t: 2\n",
      "Value of t: 3\n",
      "Value of t: 4\n",
      "Value of t: 5\n",
      "Value of t: 6\n",
      "Value of t: 7\n",
      "Value of t: 8\n",
      "Value of t: 9\n",
      "Value of t: 10\n",
      "Value of t: 11\n",
      "Value of t: 12\n",
      "Value of t: 13\n",
      "Value of t: 14\n",
      "Value of t: 15\n",
      "Value of t: 16\n",
      "Value of t: 17\n",
      "Value of t: 18\n",
      "Value of t: 19\n",
      "Value of t: 20\n"
     ]
    }
   ],
   "source": [
    "t = 1\n",
    "while t <= 20:\n",
    "    print(f\"Value of t: {t}\")\n",
    "    t = t + 1"
   ]
  },
  {
   "cell_type": "code",
   "execution_count": 61,
   "id": "ab6f6883",
   "metadata": {},
   "outputs": [],
   "source": [
    "list_2 = [2,4,3,57,2,9,4,32,5,64,5]\n",
    "list_3 = []\n",
    "list_4 = []"
   ]
  },
  {
   "cell_type": "code",
   "execution_count": 66,
   "id": "b01a4e19",
   "metadata": {},
   "outputs": [
    {
     "name": "stdout",
     "output_type": "stream",
     "text": [
      "Even Numbers: [2, 4, 2, 4, 32, 64] \n",
      "Odd Numbers: [3, 57, 9, 5, 5]\n"
     ]
    }
   ],
   "source": [
    "list_3.clear()\n",
    "list_4.clear()\n",
    "for z in list_2:\n",
    "    if z % 2 == 0:\n",
    "        list_3.append(z)\n",
    "    else:\n",
    "        list_4.append(z)\n",
    "print('Even Numbers:', list_3, \"\\nOdd Numbers:\", list_4)"
   ]
  },
  {
   "cell_type": "code",
   "execution_count": null,
   "id": "22d2266c",
   "metadata": {},
   "outputs": [],
   "source": []
  }
 ],
 "metadata": {
  "kernelspec": {
   "display_name": "Python 3 (ipykernel)",
   "language": "python",
   "name": "python3"
  },
  "language_info": {
   "codemirror_mode": {
    "name": "ipython",
    "version": 3
   },
   "file_extension": ".py",
   "mimetype": "text/x-python",
   "name": "python",
   "nbconvert_exporter": "python",
   "pygments_lexer": "ipython3",
   "version": "3.10.9"
  }
 },
 "nbformat": 4,
 "nbformat_minor": 5
}
