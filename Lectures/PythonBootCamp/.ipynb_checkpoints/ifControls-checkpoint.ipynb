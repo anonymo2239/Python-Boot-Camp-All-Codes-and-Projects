{
 "cells": [
  {
   "cell_type": "code",
   "execution_count": null,
   "id": "537bf483",
   "metadata": {},
   "outputs": [],
   "source": []
  },
  {
   "cell_type": "code",
   "execution_count": 2,
   "id": "9ce53109",
   "metadata": {},
   "outputs": [
    {
     "data": {
      "text/plain": [
       "'selam python'"
      ]
     },
     "execution_count": 2,
     "metadata": {},
     "output_type": "execute_result"
    }
   ],
   "source": [
    "\"selam python\""
   ]
  },
  {
   "cell_type": "code",
   "execution_count": 3,
   "id": "b14526f0",
   "metadata": {},
   "outputs": [],
   "source": [
    "selam = \"selam python\""
   ]
  },
  {
   "cell_type": "code",
   "execution_count": 9,
   "id": "86b83353",
   "metadata": {},
   "outputs": [
    {
     "data": {
      "text/plain": [
       "'Selam python'"
      ]
     },
     "execution_count": 9,
     "metadata": {},
     "output_type": "execute_result"
    }
   ],
   "source": [
    "selam.capitalize()"
   ]
  },
  {
   "cell_type": "code",
   "execution_count": 12,
   "id": "f4dabbb6",
   "metadata": {},
   "outputs": [],
   "source": [
    "cafer = selam.upper()"
   ]
  },
  {
   "cell_type": "code",
   "execution_count": 13,
   "id": "9cd5ad1f",
   "metadata": {},
   "outputs": [
    {
     "data": {
      "text/plain": [
       "'selam python'"
      ]
     },
     "execution_count": 13,
     "metadata": {},
     "output_type": "execute_result"
    }
   ],
   "source": [
    "selam.lower()"
   ]
  },
  {
   "cell_type": "code",
   "execution_count": 14,
   "id": "134a5b0a",
   "metadata": {},
   "outputs": [
    {
     "data": {
      "text/plain": [
       "1"
      ]
     },
     "execution_count": 14,
     "metadata": {},
     "output_type": "execute_result"
    }
   ],
   "source": [
    "cafer.count(\"N\")"
   ]
  },
  {
   "cell_type": "code",
   "execution_count": 15,
   "id": "1ceb8c5d",
   "metadata": {},
   "outputs": [],
   "source": [
    "x = 5"
   ]
  },
  {
   "cell_type": "code",
   "execution_count": 16,
   "id": "37930f37",
   "metadata": {},
   "outputs": [],
   "source": [
    "y = 5"
   ]
  },
  {
   "cell_type": "code",
   "execution_count": 18,
   "id": "3e3cec93",
   "metadata": {},
   "outputs": [
    {
     "data": {
      "text/plain": [
       "True"
      ]
     },
     "execution_count": 18,
     "metadata": {},
     "output_type": "execute_result"
    }
   ],
   "source": [
    "x == y"
   ]
  },
  {
   "cell_type": "code",
   "execution_count": 26,
   "id": "1db81335",
   "metadata": {},
   "outputs": [
    {
     "data": {
      "text/plain": [
       "False"
      ]
     },
     "execution_count": 26,
     "metadata": {},
     "output_type": "execute_result"
    }
   ],
   "source": [
    "x >= 5.00000000000001"
   ]
  },
  {
   "cell_type": "code",
   "execution_count": 32,
   "id": "64391676",
   "metadata": {},
   "outputs": [
    {
     "data": {
      "text/plain": [
       "True"
      ]
     },
     "execution_count": 32,
     "metadata": {},
     "output_type": "execute_result"
    }
   ],
   "source": [
    "2 > 1 or 14 > 22"
   ]
  },
  {
   "cell_type": "code",
   "execution_count": 33,
   "id": "24df0f89",
   "metadata": {},
   "outputs": [
    {
     "data": {
      "text/plain": [
       "False"
      ]
     },
     "execution_count": 33,
     "metadata": {},
     "output_type": "execute_result"
    }
   ],
   "source": [
    "2 > 1 and 3 < 2"
   ]
  },
  {
   "cell_type": "code",
   "execution_count": 36,
   "id": "8ff89cb7",
   "metadata": {},
   "outputs": [
    {
     "data": {
      "text/plain": [
       "True"
      ]
     },
     "execution_count": 36,
     "metadata": {},
     "output_type": "execute_result"
    }
   ],
   "source": [
    "not False == True"
   ]
  },
  {
   "cell_type": "code",
   "execution_count": 37,
   "id": "f8a0a7e0",
   "metadata": {},
   "outputs": [
    {
     "data": {
      "text/plain": [
       "True"
      ]
     },
     "execution_count": 37,
     "metadata": {},
     "output_type": "execute_result"
    }
   ],
   "source": [
    "5 not in [4, 6, 7]"
   ]
  },
  {
   "cell_type": "code",
   "execution_count": 42,
   "id": "eb670038",
   "metadata": {},
   "outputs": [
    {
     "data": {
      "text/plain": [
       "True"
      ]
     },
     "execution_count": 42,
     "metadata": {},
     "output_type": "execute_result"
    }
   ],
   "source": [
    "not(not(5 not in [4, 6, 7]))"
   ]
  },
  {
   "cell_type": "code",
   "execution_count": 49,
   "id": "ba88b803",
   "metadata": {},
   "outputs": [
    {
     "name": "stdout",
     "output_type": "stream",
     "text": [
      "Enter your superhero:fdsfd\n"
     ]
    }
   ],
   "source": [
    "mySuperHero = input(\"Enter your superhero:\")"
   ]
  },
  {
   "cell_type": "code",
   "execution_count": 50,
   "id": "c77875a5",
   "metadata": {},
   "outputs": [
    {
     "name": "stdout",
     "output_type": "stream",
     "text": [
      ":,,O\n"
     ]
    }
   ],
   "source": [
    "if mySuperHero == \"Batman\":\n",
    "    print(\"Helal\")\n",
    "elif mySuperHero == \"Superman\":\n",
    "    print(\"Trashman\")\n",
    "elif mySuperHero == \"Spider-Man\":\n",
    "    print(\"Helal\")\n",
    "else:\n",
    "    print(\":,,O\")"
   ]
  },
  {
   "cell_type": "code",
   "execution_count": null,
   "id": "9bd4cbb6",
   "metadata": {},
   "outputs": [],
   "source": []
  }
 ],
 "metadata": {
  "kernelspec": {
   "display_name": "Python 3 (ipykernel)",
   "language": "python",
   "name": "python3"
  },
  "language_info": {
   "codemirror_mode": {
    "name": "ipython",
    "version": 3
   },
   "file_extension": ".py",
   "mimetype": "text/x-python",
   "name": "python",
   "nbconvert_exporter": "python",
   "pygments_lexer": "ipython3",
   "version": "3.10.9"
  }
 },
 "nbformat": 4,
 "nbformat_minor": 5
}
