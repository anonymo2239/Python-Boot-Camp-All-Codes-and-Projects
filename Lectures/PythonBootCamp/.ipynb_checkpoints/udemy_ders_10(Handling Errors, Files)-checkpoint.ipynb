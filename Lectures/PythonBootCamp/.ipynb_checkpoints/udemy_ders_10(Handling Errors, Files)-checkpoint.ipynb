{
 "cells": [
  {
   "cell_type": "code",
   "execution_count": 1,
   "id": "b5f743af",
   "metadata": {},
   "outputs": [
    {
     "name": "stdout",
     "output_type": "stream",
     "text": [
      "Enter age: 12\n"
     ]
    }
   ],
   "source": [
    "age = input(\"Enter age: \")"
   ]
  },
  {
   "cell_type": "code",
   "execution_count": 2,
   "id": "586d4167",
   "metadata": {},
   "outputs": [
    {
     "data": {
      "text/plain": [
       "'12'"
      ]
     },
     "execution_count": 2,
     "metadata": {},
     "output_type": "execute_result"
    }
   ],
   "source": [
    "age"
   ]
  },
  {
   "cell_type": "code",
   "execution_count": 3,
   "id": "a6172689",
   "metadata": {},
   "outputs": [
    {
     "data": {
      "text/plain": [
       "24"
      ]
     },
     "execution_count": 3,
     "metadata": {},
     "output_type": "execute_result"
    }
   ],
   "source": [
    "int(age) * 2"
   ]
  },
  {
   "cell_type": "code",
   "execution_count": 4,
   "id": "6258acb2",
   "metadata": {},
   "outputs": [],
   "source": [
    "#try - except --> hata vermemesi icin if-else gibi calisir."
   ]
  },
  {
   "cell_type": "code",
   "execution_count": 5,
   "id": "427f61a4",
   "metadata": {},
   "outputs": [
    {
     "name": "stdout",
     "output_type": "stream",
     "text": [
      "Enter your age: 12\n",
      "24\n"
     ]
    }
   ],
   "source": [
    "try:\n",
    "    myAge = print(int(input(\"Enter your age: \")) * 2)\n",
    "except:\n",
    "    myAge = print(int(input(\"Enter your age!!!!(with numbers!!!)\")) * 2)\n",
    "#except ValueError: yaparak hatalari siniflandirabiliriz."
   ]
  },
  {
   "cell_type": "code",
   "execution_count": 7,
   "id": "d7959f65",
   "metadata": {},
   "outputs": [],
   "source": [
    "while type(myAge) == \"int\":\n",
    "    try:\n",
    "        myAge = print(int(input(\"Enter your age: \")) * 2)\n",
    "    except:\n",
    "        myAge = print(\"Enter your age!!!!(with numbers!!!)\")"
   ]
  },
  {
   "cell_type": "code",
   "execution_count": null,
   "id": "55588c30",
   "metadata": {},
   "outputs": [],
   "source": []
  },
  {
   "cell_type": "code",
   "execution_count": null,
   "id": "7ec52ecd",
   "metadata": {},
   "outputs": [],
   "source": []
  }
 ],
 "metadata": {
  "kernelspec": {
   "display_name": "Python 3 (ipykernel)",
   "language": "python",
   "name": "python3"
  },
  "language_info": {
   "codemirror_mode": {
    "name": "ipython",
    "version": 3
   },
   "file_extension": ".py",
   "mimetype": "text/x-python",
   "name": "python",
   "nbconvert_exporter": "python",
   "pygments_lexer": "ipython3",
   "version": "3.10.9"
  }
 },
 "nbformat": 4,
 "nbformat_minor": 5
}
