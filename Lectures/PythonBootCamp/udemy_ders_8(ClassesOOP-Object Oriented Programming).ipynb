{
 "cells": [
  {
   "cell_type": "code",
   "execution_count": 1,
   "id": "d3dcb5ed",
   "metadata": {},
   "outputs": [],
   "source": [
    "alperenName = \"Alperen\""
   ]
  },
  {
   "cell_type": "code",
   "execution_count": 2,
   "id": "0b5d2b9c",
   "metadata": {},
   "outputs": [],
   "source": [
    "alperenAge = 19"
   ]
  },
  {
   "cell_type": "code",
   "execution_count": 3,
   "id": "da9a99dc",
   "metadata": {},
   "outputs": [],
   "source": [
    "alperenGender = \"Male\""
   ]
  },
  {
   "cell_type": "code",
   "execution_count": 4,
   "id": "1953131c",
   "metadata": {},
   "outputs": [],
   "source": [
    "batuName = \"Baturalp\""
   ]
  },
  {
   "cell_type": "code",
   "execution_count": 5,
   "id": "e9817648",
   "metadata": {},
   "outputs": [],
   "source": [
    "batuAge = \"8\""
   ]
  },
  {
   "cell_type": "code",
   "execution_count": 6,
   "id": "7f7807e9",
   "metadata": {},
   "outputs": [],
   "source": [
    "batuGender = \"Male\""
   ]
  },
  {
   "cell_type": "code",
   "execution_count": 7,
   "id": "ca369803",
   "metadata": {},
   "outputs": [],
   "source": [
    "class Person():\n",
    "    name = \"\"\n",
    "    age = 0"
   ]
  },
  {
   "cell_type": "code",
   "execution_count": 8,
   "id": "aa24ad9a",
   "metadata": {},
   "outputs": [],
   "source": [
    "alperen = Person()\n",
    "batu = Person()"
   ]
  },
  {
   "cell_type": "code",
   "execution_count": 9,
   "id": "9ca109a3",
   "metadata": {},
   "outputs": [],
   "source": [
    "alperen.name = \"Alperen\"\n",
    "alperen.age = 18"
   ]
  },
  {
   "cell_type": "code",
   "execution_count": 10,
   "id": "c0a6be4b",
   "metadata": {},
   "outputs": [],
   "source": [
    "batu.name = \"Baturalp\"\n",
    "batu.age = 8"
   ]
  },
  {
   "cell_type": "code",
   "execution_count": 11,
   "id": "dd73e234",
   "metadata": {},
   "outputs": [
    {
     "name": "stdout",
     "output_type": "stream",
     "text": [
      "Baturalp\n"
     ]
    }
   ],
   "source": [
    "print(batu.name)"
   ]
  },
  {
   "cell_type": "code",
   "execution_count": 12,
   "id": "badc4a5f",
   "metadata": {},
   "outputs": [],
   "source": [
    "class Person2():\n",
    "    name = \"\"\n",
    "    age = 0\n",
    "    gender = \"\"\n",
    "    \n",
    "    #initializer method \n",
    "    def __init__(self):\n",
    "        print(\"init executed\")\n",
    "    #Her obje(nesne) olusturdugumuzda bu fonksiyon calistirilacak. C# taki CONSTRUCTOR METHODlar gibi."
   ]
  },
  {
   "cell_type": "code",
   "execution_count": 13,
   "id": "09c9a43e",
   "metadata": {},
   "outputs": [
    {
     "name": "stdout",
     "output_type": "stream",
     "text": [
      "init executed\n"
     ]
    }
   ],
   "source": [
    "mustafa = Person2()"
   ]
  },
  {
   "cell_type": "code",
   "execution_count": 14,
   "id": "b0526b4c",
   "metadata": {},
   "outputs": [
    {
     "name": "stdout",
     "output_type": "stream",
     "text": [
      "init executed\n"
     ]
    }
   ],
   "source": [
    "verstappen = Person2()"
   ]
  },
  {
   "cell_type": "code",
   "execution_count": 36,
   "id": "df092139",
   "metadata": {},
   "outputs": [],
   "source": [
    "#ayni fonksiyonu tekrar yazarsak:\n",
    "class Person3():\n",
    "    name = \"\"\n",
    "    age = 0\n",
    "    gender = \"\"\n",
    "    \n",
    "    def __init__(self, nameInput, ageInput, genderInput):\n",
    "        name = nameInput\n",
    "        age = ageInput\n",
    "        gender = genderInput"
   ]
  },
  {
   "cell_type": "code",
   "execution_count": 37,
   "id": "1bcee977",
   "metadata": {},
   "outputs": [],
   "source": [
    "alperen = Person3(\"Alperen\", 18, \"Male\")"
   ]
  },
  {
   "cell_type": "code",
   "execution_count": 38,
   "id": "cf88c02e",
   "metadata": {},
   "outputs": [
    {
     "data": {
      "text/plain": [
       "''"
      ]
     },
     "execution_count": 38,
     "metadata": {},
     "output_type": "execute_result"
    }
   ],
   "source": [
    "alperen.name "
   ]
  },
  {
   "cell_type": "code",
   "execution_count": 18,
   "id": "4da86bb2",
   "metadata": {},
   "outputs": [
    {
     "data": {
      "text/plain": [
       "0"
      ]
     },
     "execution_count": 18,
     "metadata": {},
     "output_type": "execute_result"
    }
   ],
   "source": [
    "alperen.age"
   ]
  },
  {
   "cell_type": "code",
   "execution_count": 19,
   "id": "9668b576",
   "metadata": {},
   "outputs": [],
   "source": [
    "#neden bos cikiyor?? #Cunku self kullanmadik, self karisikligi onleyen bir funct dur."
   ]
  },
  {
   "cell_type": "code",
   "execution_count": 20,
   "id": "42731476",
   "metadata": {},
   "outputs": [],
   "source": [
    "class Person4():\n",
    "    #property\n",
    "    #name = \"\"\n",
    "    #age = 0\n",
    "    #gender = \"\"\n",
    "    job = \"\"\n",
    "    \n",
    "    #initializer method\n",
    "    def __init__(self, name, age, gender):\n",
    "        self.name = name#bunlari ayni isimde yazabiliriz. np\n",
    "        self.age = age\n",
    "        self.gender = gender\n",
    "    #method\n",
    "    def printName(self):\n",
    "        print(self.job)\n",
    "#python da properties i bile yazmaya gerek yok initializer'i calistirdigimiz zaman otomatik anliyor."
   ]
  },
  {
   "cell_type": "code",
   "execution_count": 21,
   "id": "174c6c18",
   "metadata": {},
   "outputs": [],
   "source": [
    "mahmut = Person4(\"Alperen\",18,\"Male\")"
   ]
  },
  {
   "cell_type": "code",
   "execution_count": 22,
   "id": "55601e91",
   "metadata": {},
   "outputs": [
    {
     "data": {
      "text/plain": [
       "'Alperen'"
      ]
     },
     "execution_count": 22,
     "metadata": {},
     "output_type": "execute_result"
    }
   ],
   "source": [
    "mahmut.name"
   ]
  },
  {
   "cell_type": "code",
   "execution_count": 23,
   "id": "48bb84e7",
   "metadata": {},
   "outputs": [
    {
     "data": {
      "text/plain": [
       "18"
      ]
     },
     "execution_count": 23,
     "metadata": {},
     "output_type": "execute_result"
    }
   ],
   "source": [
    "mahmut.age"
   ]
  },
  {
   "cell_type": "code",
   "execution_count": 24,
   "id": "f8eb721e",
   "metadata": {},
   "outputs": [
    {
     "data": {
      "text/plain": [
       "'Male'"
      ]
     },
     "execution_count": 24,
     "metadata": {},
     "output_type": "execute_result"
    }
   ],
   "source": [
    "mahmut.gender"
   ]
  },
  {
   "cell_type": "code",
   "execution_count": 39,
   "id": "da370602",
   "metadata": {},
   "outputs": [
    {
     "name": "stdout",
     "output_type": "stream",
     "text": [
      "Developer\n"
     ]
    }
   ],
   "source": [
    "mahmut.printName()"
   ]
  },
  {
   "cell_type": "code",
   "execution_count": 26,
   "id": "7a45d2fe",
   "metadata": {},
   "outputs": [],
   "source": [
    "mahmut.job = \"Developer\""
   ]
  },
  {
   "cell_type": "code",
   "execution_count": 27,
   "id": "bf054b3c",
   "metadata": {},
   "outputs": [
    {
     "name": "stdout",
     "output_type": "stream",
     "text": [
      "Developer\n"
     ]
    }
   ],
   "source": [
    "mahmut.printName()"
   ]
  },
  {
   "cell_type": "code",
   "execution_count": 28,
   "id": "69f241f1",
   "metadata": {},
   "outputs": [],
   "source": [
    "class Dog():\n",
    "    year = 7\n",
    "    \n",
    "    def __init__(self, age):\n",
    "        self.age = age\n",
    "        \n",
    "    def ageCalculating(self):\n",
    "        return self.age * Dog.year #Dog.year = self.year"
   ]
  },
  {
   "cell_type": "code",
   "execution_count": 29,
   "id": "2820a8a1",
   "metadata": {},
   "outputs": [],
   "source": [
    "myDog = Dog(5)"
   ]
  },
  {
   "cell_type": "code",
   "execution_count": 30,
   "id": "f88b2755",
   "metadata": {},
   "outputs": [
    {
     "data": {
      "text/plain": [
       "5"
      ]
     },
     "execution_count": 30,
     "metadata": {},
     "output_type": "execute_result"
    }
   ],
   "source": [
    "myDog.age"
   ]
  },
  {
   "cell_type": "code",
   "execution_count": 31,
   "id": "1623a989",
   "metadata": {},
   "outputs": [
    {
     "data": {
      "text/plain": [
       "35"
      ]
     },
     "execution_count": 31,
     "metadata": {},
     "output_type": "execute_result"
    }
   ],
   "source": [
    "myDog.ageCalculating()"
   ]
  },
  {
   "cell_type": "code",
   "execution_count": 32,
   "id": "648635ee",
   "metadata": {},
   "outputs": [],
   "source": [
    "class Dog():\n",
    "    year = 7\n",
    "    def __init__(self, age):\n",
    "        self.age = age\n",
    "        self.humanage = self.age * self.year\n",
    "        print(\"Dog instance\")\n",
    "    def ageCalculating(self):\n",
    "        return self.age * Dog.year"
   ]
  },
  {
   "cell_type": "code",
   "execution_count": 33,
   "id": "2cbcaa82",
   "metadata": {},
   "outputs": [
    {
     "name": "stdout",
     "output_type": "stream",
     "text": [
      "Dog instance\n"
     ]
    }
   ],
   "source": [
    "rocky = Dog(4)"
   ]
  },
  {
   "cell_type": "code",
   "execution_count": 34,
   "id": "71aeb39f",
   "metadata": {},
   "outputs": [
    {
     "data": {
      "text/plain": [
       "28"
      ]
     },
     "execution_count": 34,
     "metadata": {},
     "output_type": "execute_result"
    }
   ],
   "source": [
    "rocky.ageCalculating()"
   ]
  },
  {
   "cell_type": "code",
   "execution_count": 35,
   "id": "b4710ba5",
   "metadata": {},
   "outputs": [
    {
     "data": {
      "text/plain": [
       "28"
      ]
     },
     "execution_count": 35,
     "metadata": {},
     "output_type": "execute_result"
    }
   ],
   "source": [
    "rocky.humanage"
   ]
  },
  {
   "cell_type": "code",
   "execution_count": null,
   "id": "d93ffc66",
   "metadata": {},
   "outputs": [],
   "source": []
  }
 ],
 "metadata": {
  "kernelspec": {
   "display_name": "Python 3 (ipykernel)",
   "language": "python",
   "name": "python3"
  },
  "language_info": {
   "codemirror_mode": {
    "name": "ipython",
    "version": 3
   },
   "file_extension": ".py",
   "mimetype": "text/x-python",
   "name": "python",
   "nbconvert_exporter": "python",
   "pygments_lexer": "ipython3",
   "version": "3.11.5"
  }
 },
 "nbformat": 4,
 "nbformat_minor": 5
}
