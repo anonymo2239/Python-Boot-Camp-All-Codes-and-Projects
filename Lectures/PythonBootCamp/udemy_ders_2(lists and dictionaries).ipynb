{
 "cells": [
  {
   "cell_type": "code",
   "execution_count": 1,
   "id": "244d0754",
   "metadata": {},
   "outputs": [],
   "source": [
    "alponzo = ['Alperen', 'Arda', 20, 50, 20, 50, 88, 50, 50.45]"
   ]
  },
  {
   "cell_type": "code",
   "execution_count": 2,
   "id": "73052826",
   "metadata": {},
   "outputs": [
    {
     "data": {
      "text/plain": [
       "['Alperen', 'Arda', 20, 50, 20, 50, 88, 50, 50.45]"
      ]
     },
     "execution_count": 2,
     "metadata": {},
     "output_type": "execute_result"
    }
   ],
   "source": [
    "alponzo"
   ]
  },
  {
   "cell_type": "code",
   "execution_count": 3,
   "id": "1b36a728",
   "metadata": {
    "scrolled": true
   },
   "outputs": [
    {
     "name": "stdout",
     "output_type": "stream",
     "text": [
      "X sayisini giriniz:50\n"
     ]
    }
   ],
   "source": [
    "x = input(\"X sayisini giriniz:\")"
   ]
  },
  {
   "cell_type": "code",
   "execution_count": 4,
   "id": "5822b153",
   "metadata": {},
   "outputs": [
    {
     "name": "stdout",
     "output_type": "stream",
     "text": [
      "Enter y:\n",
      "50\n"
     ]
    }
   ],
   "source": [
    "y = input(\"Enter y:\\n\")"
   ]
  },
  {
   "cell_type": "code",
   "execution_count": 5,
   "id": "1fe2b40d",
   "metadata": {},
   "outputs": [
    {
     "data": {
      "text/plain": [
       "'50'"
      ]
     },
     "execution_count": 5,
     "metadata": {},
     "output_type": "execute_result"
    }
   ],
   "source": [
    "y"
   ]
  },
  {
   "cell_type": "code",
   "execution_count": 6,
   "id": "afe2d2ee",
   "metadata": {},
   "outputs": [
    {
     "data": {
      "text/plain": [
       "str"
      ]
     },
     "execution_count": 6,
     "metadata": {},
     "output_type": "execute_result"
    }
   ],
   "source": [
    "type(y)"
   ]
  },
  {
   "cell_type": "code",
   "execution_count": 7,
   "id": "3ca1dceb",
   "metadata": {},
   "outputs": [
    {
     "data": {
      "text/plain": [
       "['Alperen', 'Arda', 20, 50, 20, 50, 88, 50, 50.45]"
      ]
     },
     "execution_count": 7,
     "metadata": {},
     "output_type": "execute_result"
    }
   ],
   "source": [
    "alponzo"
   ]
  },
  {
   "cell_type": "code",
   "execution_count": 8,
   "id": "53085bfb",
   "metadata": {},
   "outputs": [
    {
     "data": {
      "text/plain": [
       "'20'"
      ]
     },
     "execution_count": 8,
     "metadata": {},
     "output_type": "execute_result"
    }
   ],
   "source": [
    "str(alponzo[4])"
   ]
  },
  {
   "cell_type": "code",
   "execution_count": 9,
   "id": "6a99c468",
   "metadata": {},
   "outputs": [
    {
     "data": {
      "text/plain": [
       "'20'"
      ]
     },
     "execution_count": 9,
     "metadata": {},
     "output_type": "execute_result"
    }
   ],
   "source": [
    "str(alponzo[2])"
   ]
  },
  {
   "cell_type": "code",
   "execution_count": 10,
   "id": "9a5893bc",
   "metadata": {},
   "outputs": [],
   "source": [
    "alponzo.append([1,2,3,4])"
   ]
  },
  {
   "cell_type": "code",
   "execution_count": 11,
   "id": "c6bb417e",
   "metadata": {},
   "outputs": [
    {
     "data": {
      "text/plain": [
       "['Alperen', 'Arda', 20, 50, 20, 50, 88, 50, 50.45, [1, 2, 3, 4]]"
      ]
     },
     "execution_count": 11,
     "metadata": {},
     "output_type": "execute_result"
    }
   ],
   "source": [
    "alponzo"
   ]
  },
  {
   "cell_type": "code",
   "execution_count": 12,
   "id": "90005565",
   "metadata": {},
   "outputs": [],
   "source": [
    "myNestedList = alponzo[9]"
   ]
  },
  {
   "cell_type": "code",
   "execution_count": 13,
   "id": "964c3e22",
   "metadata": {},
   "outputs": [
    {
     "data": {
      "text/plain": [
       "4"
      ]
     },
     "execution_count": 13,
     "metadata": {},
     "output_type": "execute_result"
    }
   ],
   "source": [
    "myNestedList[3]"
   ]
  },
  {
   "cell_type": "code",
   "execution_count": 15,
   "id": "3f785ded",
   "metadata": {},
   "outputs": [
    {
     "data": {
      "text/plain": [
       "4"
      ]
     },
     "execution_count": 15,
     "metadata": {},
     "output_type": "execute_result"
    }
   ],
   "source": [
    "myNestedList[1:8:2][-1]"
   ]
  },
  {
   "cell_type": "code",
   "execution_count": 16,
   "id": "7c4213c0",
   "metadata": {},
   "outputs": [],
   "source": [
    "fruit_list = [\"apple\", \"banana\", \"tangerine\", \"artichoke\"]\n",
    "calorie_list = [100, 150, 70, 250]"
   ]
  },
  {
   "cell_type": "code",
   "execution_count": 17,
   "id": "2b5a37c2",
   "metadata": {},
   "outputs": [],
   "source": [
    "fitness_dictionary = {\"apple\":100, \"banana\":150, \"tangerine\":70, \"artichoke\":250}"
   ]
  },
  {
   "cell_type": "code",
   "execution_count": 18,
   "id": "c79256b0",
   "metadata": {},
   "outputs": [
    {
     "data": {
      "text/plain": [
       "70"
      ]
     },
     "execution_count": 18,
     "metadata": {},
     "output_type": "execute_result"
    }
   ],
   "source": [
    "fitness_dictionary[\"tangerine\"]"
   ]
  },
  {
   "cell_type": "code",
   "execution_count": 19,
   "id": "4b6d0859",
   "metadata": {},
   "outputs": [
    {
     "data": {
      "text/plain": [
       "dict_keys(['apple', 'banana', 'tangerine', 'artichoke'])"
      ]
     },
     "execution_count": 19,
     "metadata": {},
     "output_type": "execute_result"
    }
   ],
   "source": [
    "fitness_dictionary.keys()"
   ]
  },
  {
   "cell_type": "code",
   "execution_count": 20,
   "id": "70955866",
   "metadata": {},
   "outputs": [
    {
     "data": {
      "text/plain": [
       "dict_values([100, 150, 70, 250])"
      ]
     },
     "execution_count": 20,
     "metadata": {},
     "output_type": "execute_result"
    }
   ],
   "source": [
    "fitness_dictionary.values()"
   ]
  },
  {
   "cell_type": "code",
   "execution_count": 21,
   "id": "83b9f150",
   "metadata": {},
   "outputs": [
    {
     "data": {
      "text/plain": [
       "dict_values"
      ]
     },
     "execution_count": 21,
     "metadata": {},
     "output_type": "execute_result"
    }
   ],
   "source": [
    "type(fitness_dictionary.values())"
   ]
  },
  {
   "cell_type": "code",
   "execution_count": 22,
   "id": "d2c5c26e",
   "metadata": {},
   "outputs": [
    {
     "data": {
      "text/plain": [
       "[100, 150, 70, 250]"
      ]
     },
     "execution_count": 22,
     "metadata": {},
     "output_type": "execute_result"
    }
   ],
   "source": [
    "list(fitness_dictionary.values())"
   ]
  },
  {
   "cell_type": "code",
   "execution_count": 23,
   "id": "8f588067",
   "metadata": {},
   "outputs": [
    {
     "data": {
      "text/plain": [
       "['apple', 'banana', 'tangerine', 'artichoke']"
      ]
     },
     "execution_count": 23,
     "metadata": {},
     "output_type": "execute_result"
    }
   ],
   "source": [
    "list(fitness_dictionary)"
   ]
  },
  {
   "cell_type": "code",
   "execution_count": 24,
   "id": "fbec50a7",
   "metadata": {},
   "outputs": [
    {
     "data": {
      "text/plain": [
       "{'apple': 100, 'banana': 150, 'tangerine': 70, 'artichoke': 250}"
      ]
     },
     "execution_count": 24,
     "metadata": {},
     "output_type": "execute_result"
    }
   ],
   "source": [
    "fitness_dictionary"
   ]
  },
  {
   "cell_type": "code",
   "execution_count": 25,
   "id": "5cf9ae39",
   "metadata": {},
   "outputs": [],
   "source": [
    "fitness_dictionary[\"melon\"] = 200"
   ]
  },
  {
   "cell_type": "code",
   "execution_count": 26,
   "id": "e06cbf34",
   "metadata": {},
   "outputs": [
    {
     "data": {
      "text/plain": [
       "{'apple': 100, 'banana': 150, 'tangerine': 70, 'artichoke': 250, 'melon': 200}"
      ]
     },
     "execution_count": 26,
     "metadata": {},
     "output_type": "execute_result"
    }
   ],
   "source": [
    "fitness_dictionary"
   ]
  },
  {
   "cell_type": "code",
   "execution_count": 27,
   "id": "548299bf",
   "metadata": {},
   "outputs": [],
   "source": [
    "fitness_dictionary['watermelon'] = 400"
   ]
  },
  {
   "cell_type": "code",
   "execution_count": 28,
   "id": "03e47b70",
   "metadata": {},
   "outputs": [
    {
     "data": {
      "text/plain": [
       "{'apple': 100,\n",
       " 'banana': 150,\n",
       " 'tangerine': 70,\n",
       " 'artichoke': 250,\n",
       " 'melon': 200,\n",
       " 'watermelon': 400}"
      ]
     },
     "execution_count": 28,
     "metadata": {},
     "output_type": "execute_result"
    }
   ],
   "source": [
    "fitness_dictionary"
   ]
  },
  {
   "cell_type": "code",
   "execution_count": 29,
   "id": "166dc117",
   "metadata": {},
   "outputs": [],
   "source": [
    "my_dictionary = {\"key1\":12, \"key2\":3.14, \"key3\":\"value3\", \"key4\":\"aboubakar\", 34:[1,2,3,4]}"
   ]
  },
  {
   "cell_type": "code",
   "execution_count": 30,
   "id": "f86cc35a",
   "metadata": {},
   "outputs": [
    {
     "data": {
      "text/plain": [
       "3.14"
      ]
     },
     "execution_count": 30,
     "metadata": {},
     "output_type": "execute_result"
    }
   ],
   "source": [
    "my_dictionary[\"key2\"]"
   ]
  },
  {
   "cell_type": "code",
   "execution_count": 31,
   "id": "2ca76ba0",
   "metadata": {},
   "outputs": [
    {
     "data": {
      "text/plain": [
       "'aboubakar'"
      ]
     },
     "execution_count": 31,
     "metadata": {},
     "output_type": "execute_result"
    }
   ],
   "source": [
    "my_dictionary[\"key4\"]"
   ]
  },
  {
   "cell_type": "code",
   "execution_count": 32,
   "id": "dfbfddbd",
   "metadata": {},
   "outputs": [
    {
     "data": {
      "text/plain": [
       "3"
      ]
     },
     "execution_count": 32,
     "metadata": {},
     "output_type": "execute_result"
    }
   ],
   "source": [
    "my_dictionary[34][2]"
   ]
  },
  {
   "cell_type": "code",
   "execution_count": 33,
   "id": "28fce9f1",
   "metadata": {},
   "outputs": [],
   "source": [
    "last_dictionary = {\"k1\":10, \"k2\":[10,20,30,40,50], \"k3\":\"string\", \"k4\":{\"a\":100, \"b\":{\"c\":200}}}"
   ]
  },
  {
   "cell_type": "code",
   "execution_count": 34,
   "id": "dddd3686",
   "metadata": {},
   "outputs": [
    {
     "data": {
      "text/plain": [
       "30"
      ]
     },
     "execution_count": 34,
     "metadata": {},
     "output_type": "execute_result"
    }
   ],
   "source": [
    "last_dictionary[\"k2\"][2]"
   ]
  },
  {
   "cell_type": "code",
   "execution_count": 35,
   "id": "3a2f8c5c",
   "metadata": {},
   "outputs": [
    {
     "data": {
      "text/plain": [
       "200"
      ]
     },
     "execution_count": 35,
     "metadata": {},
     "output_type": "execute_result"
    }
   ],
   "source": [
    "last_dictionary[\"k4\"][\"b\"][\"c\"]"
   ]
  }
 ],
 "metadata": {
  "kernelspec": {
   "display_name": "Python 3 (ipykernel)",
   "language": "python",
   "name": "python3"
  },
  "language_info": {
   "codemirror_mode": {
    "name": "ipython",
    "version": 3
   },
   "file_extension": ".py",
   "mimetype": "text/x-python",
   "name": "python",
   "nbconvert_exporter": "python",
   "pygments_lexer": "ipython3",
   "version": "3.10.9"
  }
 },
 "nbformat": 4,
 "nbformat_minor": 5
}
