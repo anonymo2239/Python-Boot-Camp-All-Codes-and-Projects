{
 "cells": [
  {
   "cell_type": "code",
   "execution_count": 1,
   "id": "21f2becd",
   "metadata": {},
   "outputs": [],
   "source": [
    "myList = [10,20,30,40,30,20,20]"
   ]
  },
  {
   "cell_type": "code",
   "execution_count": 2,
   "id": "88ea4b11",
   "metadata": {},
   "outputs": [],
   "source": [
    "my_set = set(myList)"
   ]
  },
  {
   "cell_type": "code",
   "execution_count": 3,
   "id": "63ed5cc2",
   "metadata": {},
   "outputs": [
    {
     "data": {
      "text/plain": [
       "{10, 20, 30, 40}"
      ]
     },
     "execution_count": 3,
     "metadata": {},
     "output_type": "execute_result"
    }
   ],
   "source": [
    "my_set"
   ]
  },
  {
   "cell_type": "code",
   "execution_count": 4,
   "id": "01f79fb6",
   "metadata": {},
   "outputs": [],
   "source": [
    "my_set.add(40)"
   ]
  },
  {
   "cell_type": "code",
   "execution_count": 5,
   "id": "2d38145a",
   "metadata": {},
   "outputs": [
    {
     "data": {
      "text/plain": [
       "{10, 20, 30, 40}"
      ]
     },
     "execution_count": 5,
     "metadata": {},
     "output_type": "execute_result"
    }
   ],
   "source": [
    "my_set"
   ]
  },
  {
   "cell_type": "code",
   "execution_count": 6,
   "id": "d83889ec",
   "metadata": {},
   "outputs": [],
   "source": [
    "mySet = my_set"
   ]
  },
  {
   "cell_type": "code",
   "execution_count": 7,
   "id": "4594dc39",
   "metadata": {},
   "outputs": [
    {
     "data": {
      "text/plain": [
       "(None, None)"
      ]
     },
     "execution_count": 7,
     "metadata": {},
     "output_type": "execute_result"
    }
   ],
   "source": [
    "mySet.add(5), mySet.add(50)"
   ]
  },
  {
   "cell_type": "code",
   "execution_count": 8,
   "id": "993831ff",
   "metadata": {},
   "outputs": [
    {
     "data": {
      "text/plain": [
       "{5, 10, 20, 30, 40, 50}"
      ]
     },
     "execution_count": 8,
     "metadata": {},
     "output_type": "execute_result"
    }
   ],
   "source": [
    "mySet"
   ]
  },
  {
   "cell_type": "code",
   "execution_count": 9,
   "id": "b6f44ae5",
   "metadata": {},
   "outputs": [],
   "source": [
    "mySet2 = {30,40,60,70}"
   ]
  },
  {
   "cell_type": "code",
   "execution_count": 10,
   "id": "7f09cba3",
   "metadata": {},
   "outputs": [
    {
     "data": {
      "text/plain": [
       "{5, 10, 20, 30, 40, 50, 60, 70}"
      ]
     },
     "execution_count": 10,
     "metadata": {},
     "output_type": "execute_result"
    }
   ],
   "source": [
    "mySet.union(mySet2)"
   ]
  },
  {
   "cell_type": "code",
   "execution_count": 11,
   "id": "910e55b6",
   "metadata": {},
   "outputs": [
    {
     "data": {
      "text/plain": [
       "{30, 40}"
      ]
     },
     "execution_count": 11,
     "metadata": {},
     "output_type": "execute_result"
    }
   ],
   "source": [
    "mySet.intersection(mySet2)"
   ]
  },
  {
   "cell_type": "code",
   "execution_count": 12,
   "id": "983400b9",
   "metadata": {},
   "outputs": [
    {
     "data": {
      "text/plain": [
       "{60, 70}"
      ]
     },
     "execution_count": 12,
     "metadata": {},
     "output_type": "execute_result"
    }
   ],
   "source": [
    "mySet2.difference(mySet)"
   ]
  },
  {
   "cell_type": "code",
   "execution_count": 13,
   "id": "f8fac571",
   "metadata": {},
   "outputs": [],
   "source": [
    "countryList = [\"de\", \"fr\", \"tr\", \"tr\", \"tr\", \"fr\", \"fr\", \"de\", \"nl\", \"de\", \"us\"]"
   ]
  },
  {
   "cell_type": "code",
   "execution_count": 14,
   "id": "8e4eb02d",
   "metadata": {},
   "outputs": [
    {
     "data": {
      "text/plain": [
       "5"
      ]
     },
     "execution_count": 14,
     "metadata": {},
     "output_type": "execute_result"
    }
   ],
   "source": [
    "len(set(countryList))"
   ]
  },
  {
   "cell_type": "code",
   "execution_count": 15,
   "id": "2476f008",
   "metadata": {},
   "outputs": [],
   "source": [
    "emptyList = []"
   ]
  },
  {
   "cell_type": "code",
   "execution_count": 16,
   "id": "0d8bbb99",
   "metadata": {},
   "outputs": [
    {
     "name": "stdout",
     "output_type": "stream",
     "text": [
      "45\n"
     ]
    }
   ],
   "source": [
    "emptyList.append(int(input()))"
   ]
  },
  {
   "cell_type": "code",
   "execution_count": 17,
   "id": "9252f6ec",
   "metadata": {},
   "outputs": [
    {
     "data": {
      "text/plain": [
       "[45]"
      ]
     },
     "execution_count": 17,
     "metadata": {},
     "output_type": "execute_result"
    }
   ],
   "source": [
    "emptyList"
   ]
  },
  {
   "cell_type": "code",
   "execution_count": 18,
   "id": "8477859b",
   "metadata": {},
   "outputs": [],
   "source": [
    "emptySet = {}"
   ]
  },
  {
   "cell_type": "code",
   "execution_count": 19,
   "id": "61ffc7cc",
   "metadata": {},
   "outputs": [
    {
     "data": {
      "text/plain": [
       "dict"
      ]
     },
     "execution_count": 19,
     "metadata": {},
     "output_type": "execute_result"
    }
   ],
   "source": [
    "type(emptySet)"
   ]
  },
  {
   "cell_type": "code",
   "execution_count": 20,
   "id": "01eaaf63",
   "metadata": {},
   "outputs": [],
   "source": [
    "emptySet = set()"
   ]
  },
  {
   "cell_type": "code",
   "execution_count": 21,
   "id": "3af322df",
   "metadata": {},
   "outputs": [
    {
     "data": {
      "text/plain": [
       "set"
      ]
     },
     "execution_count": 21,
     "metadata": {},
     "output_type": "execute_result"
    }
   ],
   "source": [
    "type(emptySet)"
   ]
  },
  {
   "cell_type": "code",
   "execution_count": 22,
   "id": "db5a2e56",
   "metadata": {},
   "outputs": [
    {
     "data": {
      "text/plain": [
       "0"
      ]
     },
     "execution_count": 22,
     "metadata": {},
     "output_type": "execute_result"
    }
   ],
   "source": [
    "len(emptySet)"
   ]
  },
  {
   "cell_type": "code",
   "execution_count": 23,
   "id": "aa7dad21",
   "metadata": {},
   "outputs": [],
   "source": [
    "emptySet.add(10)\n",
    "emptySet.add(10)\n",
    "emptySet.add(10)\n",
    "emptySet.add(20)\n",
    "emptySet.add(30)"
   ]
  },
  {
   "cell_type": "code",
   "execution_count": 24,
   "id": "de046164",
   "metadata": {},
   "outputs": [
    {
     "data": {
      "text/plain": [
       "{10, 20, 30}"
      ]
     },
     "execution_count": 24,
     "metadata": {},
     "output_type": "execute_result"
    }
   ],
   "source": [
    "emptySet"
   ]
  },
  {
   "cell_type": "code",
   "execution_count": 25,
   "id": "74b4edf0",
   "metadata": {},
   "outputs": [],
   "source": [
    "emptyList = list()"
   ]
  },
  {
   "cell_type": "code",
   "execution_count": 26,
   "id": "3892a980",
   "metadata": {},
   "outputs": [],
   "source": [
    "emptyList.append(10)\n",
    "emptyList.append(30)\n",
    "emptyList.append(20)\n",
    "emptyList.append(10)"
   ]
  },
  {
   "cell_type": "code",
   "execution_count": 27,
   "id": "f09b5deb",
   "metadata": {},
   "outputs": [
    {
     "data": {
      "text/plain": [
       "[10, 30, 20, 10]"
      ]
     },
     "execution_count": 27,
     "metadata": {},
     "output_type": "execute_result"
    }
   ],
   "source": [
    "emptyList"
   ]
  },
  {
   "cell_type": "code",
   "execution_count": 28,
   "id": "38a3b36b",
   "metadata": {},
   "outputs": [],
   "source": [
    "my_tuple = tuple(emptyList)"
   ]
  },
  {
   "cell_type": "code",
   "execution_count": 29,
   "id": "e6ccb783",
   "metadata": {},
   "outputs": [
    {
     "data": {
      "text/plain": [
       "(10, 30, 20, 10)"
      ]
     },
     "execution_count": 29,
     "metadata": {},
     "output_type": "execute_result"
    }
   ],
   "source": [
    "my_tuple"
   ]
  },
  {
   "cell_type": "code",
   "execution_count": 30,
   "id": "a00bc1fc",
   "metadata": {},
   "outputs": [
    {
     "data": {
      "text/plain": [
       "20"
      ]
     },
     "execution_count": 30,
     "metadata": {},
     "output_type": "execute_result"
    }
   ],
   "source": [
    "my_tuple[2] #immutability"
   ]
  },
  {
   "cell_type": "code",
   "execution_count": 31,
   "id": "115f385d",
   "metadata": {},
   "outputs": [
    {
     "data": {
      "text/plain": [
       "tuple"
      ]
     },
     "execution_count": 31,
     "metadata": {},
     "output_type": "execute_result"
    }
   ],
   "source": [
    "type(my_tuple)"
   ]
  },
  {
   "cell_type": "code",
   "execution_count": 32,
   "id": "cedeec90",
   "metadata": {},
   "outputs": [
    {
     "data": {
      "text/plain": [
       "False"
      ]
     },
     "execution_count": 32,
     "metadata": {},
     "output_type": "execute_result"
    }
   ],
   "source": [
    "False"
   ]
  },
  {
   "cell_type": "code",
   "execution_count": 33,
   "id": "0497e207",
   "metadata": {},
   "outputs": [
    {
     "data": {
      "text/plain": [
       "True"
      ]
     },
     "execution_count": 33,
     "metadata": {},
     "output_type": "execute_result"
    }
   ],
   "source": [
    "True"
   ]
  },
  {
   "cell_type": "code",
   "execution_count": 34,
   "id": "1385d396",
   "metadata": {},
   "outputs": [
    {
     "name": "stdout",
     "output_type": "stream",
     "text": [
      "Enter your age: 50\n",
      "You can enter the movie\n"
     ]
    }
   ],
   "source": [
    "age = input(\"Enter your age: \")\n",
    "\n",
    "if(int(age) >= 18):\n",
    "    print(\"You can enter the movie\")\n",
    "else:\n",
    "    print(\"You cannot enter the movie :(\")"
   ]
  },
  {
   "cell_type": "code",
   "execution_count": 35,
   "id": "aa7678e8",
   "metadata": {},
   "outputs": [],
   "source": [
    "steveCarrel = {10:34,29:\"jm\",34:age}"
   ]
  },
  {
   "cell_type": "code",
   "execution_count": 36,
   "id": "6a710c8d",
   "metadata": {},
   "outputs": [
    {
     "data": {
      "text/plain": [
       "dict"
      ]
     },
     "execution_count": 36,
     "metadata": {},
     "output_type": "execute_result"
    }
   ],
   "source": [
    "type(steveCarrel)"
   ]
  },
  {
   "cell_type": "code",
   "execution_count": 37,
   "id": "f0c5da9f",
   "metadata": {},
   "outputs": [
    {
     "data": {
      "text/plain": [
       "'50'"
      ]
     },
     "execution_count": 37,
     "metadata": {},
     "output_type": "execute_result"
    }
   ],
   "source": [
    "steveCarrel[34]"
   ]
  },
  {
   "cell_type": "code",
   "execution_count": 38,
   "id": "6b8b030d",
   "metadata": {
    "scrolled": true
   },
   "outputs": [
    {
     "name": "stdout",
     "output_type": "stream",
     "text": [
      "2\n",
      "3\n",
      "5\n",
      "7\n",
      "11\n",
      "13\n",
      "17\n",
      "19\n",
      "23\n",
      "29\n",
      "31\n",
      "37\n",
      "41\n",
      "43\n",
      "47\n",
      "53\n",
      "59\n",
      "61\n",
      "67\n",
      "71\n",
      "73\n",
      "79\n",
      "83\n",
      "89\n",
      "97\n",
      "101\n",
      "103\n",
      "107\n",
      "109\n",
      "113\n",
      "127\n",
      "131\n",
      "137\n",
      "139\n",
      "149\n",
      "151\n",
      "157\n",
      "163\n",
      "167\n",
      "173\n",
      "179\n",
      "181\n",
      "191\n",
      "193\n",
      "197\n",
      "199\n",
      "211\n",
      "223\n",
      "227\n",
      "229\n",
      "233\n",
      "239\n",
      "241\n",
      "251\n",
      "257\n",
      "263\n",
      "269\n",
      "271\n",
      "277\n",
      "281\n",
      "283\n",
      "293\n",
      "307\n",
      "311\n",
      "313\n",
      "317\n",
      "331\n",
      "337\n",
      "347\n",
      "349\n",
      "353\n",
      "359\n",
      "367\n",
      "373\n",
      "379\n",
      "383\n",
      "389\n",
      "397\n",
      "401\n",
      "409\n",
      "419\n",
      "421\n",
      "431\n",
      "433\n",
      "439\n",
      "443\n",
      "449\n",
      "457\n",
      "461\n",
      "463\n",
      "467\n",
      "479\n",
      "487\n",
      "491\n",
      "499\n",
      "503\n",
      "509\n",
      "521\n",
      "523\n",
      "541\n",
      "547\n",
      "557\n",
      "563\n",
      "569\n",
      "571\n",
      "577\n",
      "587\n",
      "593\n",
      "599\n",
      "601\n",
      "607\n",
      "613\n",
      "617\n",
      "619\n",
      "631\n",
      "641\n",
      "643\n",
      "647\n",
      "653\n",
      "659\n",
      "661\n",
      "673\n",
      "677\n",
      "683\n",
      "691\n",
      "701\n",
      "709\n",
      "719\n",
      "727\n",
      "733\n",
      "739\n",
      "743\n",
      "751\n",
      "757\n",
      "761\n",
      "769\n",
      "773\n",
      "787\n",
      "797\n",
      "809\n",
      "811\n",
      "821\n",
      "823\n",
      "827\n",
      "829\n",
      "839\n",
      "853\n",
      "857\n",
      "859\n",
      "863\n",
      "877\n",
      "881\n",
      "883\n",
      "887\n",
      "907\n",
      "911\n",
      "919\n",
      "929\n",
      "937\n",
      "941\n",
      "947\n",
      "953\n",
      "967\n",
      "971\n",
      "977\n",
      "983\n",
      "991\n",
      "997\n"
     ]
    }
   ],
   "source": [
    "def asal_mi(sayi):\n",
    "    if sayi < 2:\n",
    "        return False\n",
    "    for i in range(2, int(sayi**0.5)+1):\n",
    "        if sayi % i == 0:\n",
    "            return False\n",
    "    return True\n",
    "\n",
    "for i in range(2, 1001):\n",
    "    if asal_mi(i):\n",
    "        print(i)\n"
   ]
  },
  {
   "cell_type": "code",
   "execution_count": null,
   "id": "dc209f05",
   "metadata": {},
   "outputs": [],
   "source": []
  }
 ],
 "metadata": {
  "kernelspec": {
   "display_name": "Python 3 (ipykernel)",
   "language": "python",
   "name": "python3"
  },
  "language_info": {
   "codemirror_mode": {
    "name": "ipython",
    "version": 3
   },
   "file_extension": ".py",
   "mimetype": "text/x-python",
   "name": "python",
   "nbconvert_exporter": "python",
   "pygments_lexer": "ipython3",
   "version": "3.10.9"
  }
 },
 "nbformat": 4,
 "nbformat_minor": 5
}
