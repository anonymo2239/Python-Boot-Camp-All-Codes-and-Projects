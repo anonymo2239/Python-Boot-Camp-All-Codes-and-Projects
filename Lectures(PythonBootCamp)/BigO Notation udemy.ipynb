{
 "cells": [
  {
   "cell_type": "code",
   "execution_count": 1,
   "id": "5a8e5099",
   "metadata": {},
   "outputs": [],
   "source": [
    "#https://www.bigocheatsheet.com"
   ]
  },
  {
   "cell_type": "code",
   "execution_count": 2,
   "id": "244fab47",
   "metadata": {},
   "outputs": [],
   "source": [
    "def bigon(n):\n",
    "    for i in range(0, n):\n",
    "        print(i)"
   ]
  },
  {
   "cell_type": "code",
   "execution_count": 3,
   "id": "0c3c26f1",
   "metadata": {},
   "outputs": [
    {
     "name": "stdout",
     "output_type": "stream",
     "text": [
      "0\n"
     ]
    }
   ],
   "source": [
    "bigon(1)"
   ]
  },
  {
   "cell_type": "code",
   "execution_count": 4,
   "id": "c76ae229",
   "metadata": {},
   "outputs": [],
   "source": [
    "def bigon2(n):\n",
    "    for i in range(0, n):\n",
    "        for j in range(0, n):\n",
    "            print(j)"
   ]
  },
  {
   "cell_type": "code",
   "execution_count": 5,
   "id": "c3d89f7a",
   "metadata": {},
   "outputs": [
    {
     "name": "stdout",
     "output_type": "stream",
     "text": [
      "0\n",
      "1\n",
      "2\n",
      "0\n",
      "1\n",
      "2\n",
      "0\n",
      "1\n",
      "2\n"
     ]
    }
   ],
   "source": [
    "bigon2(3)"
   ]
  },
  {
   "cell_type": "code",
   "execution_count": 6,
   "id": "13278c2a",
   "metadata": {},
   "outputs": [],
   "source": [
    "import math\n",
    "def logn(n):\n",
    "    while n > 1:\n",
    "        n = math.floor(n/2)\n",
    "        print(n)"
   ]
  },
  {
   "cell_type": "code",
   "execution_count": 7,
   "id": "279c2ccf",
   "metadata": {},
   "outputs": [
    {
     "name": "stdout",
     "output_type": "stream",
     "text": [
      "64\n",
      "32\n",
      "16\n",
      "8\n",
      "4\n",
      "2\n",
      "1\n"
     ]
    }
   ],
   "source": [
    "logn(128)"
   ]
  },
  {
   "cell_type": "code",
   "execution_count": 8,
   "id": "dce5fa31",
   "metadata": {},
   "outputs": [],
   "source": [
    "#yukaridaki algoritmalarda:\n",
    "# O(n) olsaydi 300 artirsam o da 300 fazladan islem yapmak zorunda kalirdi.\n",
    "# ama log n bir algoritma yazdigimiz zaman 300 artirsam bile 1-2 fazladan islem yapar."
   ]
  },
  {
   "cell_type": "code",
   "execution_count": 9,
   "id": "3f451461",
   "metadata": {},
   "outputs": [],
   "source": [
    "def nlogn(n):\n",
    "    lim = n\n",
    "    while n > 1:\n",
    "        n = math.floor(n/2)\n",
    "        for i in range(1, lim):\n",
    "            print(i)"
   ]
  },
  {
   "cell_type": "code",
   "execution_count": 10,
   "id": "7dd52652",
   "metadata": {},
   "outputs": [
    {
     "name": "stdout",
     "output_type": "stream",
     "text": [
      "1\n",
      "2\n",
      "3\n",
      "4\n",
      "5\n",
      "6\n",
      "7\n",
      "8\n",
      "9\n",
      "10\n",
      "11\n",
      "12\n",
      "13\n",
      "14\n",
      "15\n",
      "1\n",
      "2\n",
      "3\n",
      "4\n",
      "5\n",
      "6\n",
      "7\n",
      "8\n",
      "9\n",
      "10\n",
      "11\n",
      "12\n",
      "13\n",
      "14\n",
      "15\n",
      "1\n",
      "2\n",
      "3\n",
      "4\n",
      "5\n",
      "6\n",
      "7\n",
      "8\n",
      "9\n",
      "10\n",
      "11\n",
      "12\n",
      "13\n",
      "14\n",
      "15\n",
      "1\n",
      "2\n",
      "3\n",
      "4\n",
      "5\n",
      "6\n",
      "7\n",
      "8\n",
      "9\n",
      "10\n",
      "11\n",
      "12\n",
      "13\n",
      "14\n",
      "15\n"
     ]
    }
   ],
   "source": [
    "nlogn(16)"
   ]
  },
  {
   "cell_type": "code",
   "execution_count": 11,
   "id": "93a9a2b5",
   "metadata": {},
   "outputs": [],
   "source": [
    "#2 uzeri zamani kadar islem yapmadi ama O(n) zamanindan daha fazla islem yapmis oldu."
   ]
  },
  {
   "cell_type": "code",
   "execution_count": 12,
   "id": "8e34d8b4",
   "metadata": {},
   "outputs": [],
   "source": [
    "# nlogn zamani array sorting de kullanilir."
   ]
  },
  {
   "cell_type": "code",
   "execution_count": 13,
   "id": "b1cf550e",
   "metadata": {},
   "outputs": [],
   "source": [
    "# mulakat sorusunda:\n",
    "# ben bir islem yapiyorum ve onun time complexity'si var\n",
    "# bu logaritmik olabilir, lineer artabilir, faktoriyel olabilir."
   ]
  },
  {
   "cell_type": "code",
   "execution_count": 14,
   "id": "74933ee3",
   "metadata": {},
   "outputs": [],
   "source": [
    "def nfactorial(n):\n",
    "    if n == 0:\n",
    "        print(\"1\")\n",
    "        return\n",
    "    else:\n",
    "        for i in range(0, n):\n",
    "            print(i)\n",
    "            nfactorial(n-1)"
   ]
  },
  {
   "cell_type": "code",
   "execution_count": 15,
   "id": "f1a8497c",
   "metadata": {},
   "outputs": [
    {
     "name": "stdout",
     "output_type": "stream",
     "text": [
      "1\n"
     ]
    }
   ],
   "source": [
    "nfactorial(0)"
   ]
  },
  {
   "cell_type": "code",
   "execution_count": 19,
   "id": "d8f4a313",
   "metadata": {},
   "outputs": [],
   "source": [
    "# bu islemin complexity si(karmasikligi) O(n) dir ama yukardaki islemin n! dir.\n",
    "def actualFactoriel(n):\n",
    "    i = n\n",
    "    if (n == 0 and n == 1):\n",
    "        print(\"1\")\n",
    "        return\n",
    "    else:\n",
    "        while i > 1:\n",
    "            n = n * (i - 1)\n",
    "            i = i - 1\n",
    "        print(n)"
   ]
  },
  {
   "cell_type": "code",
   "execution_count": 20,
   "id": "743ab2ab",
   "metadata": {},
   "outputs": [
    {
     "name": "stdout",
     "output_type": "stream",
     "text": [
      "40320\n"
     ]
    }
   ],
   "source": [
    "actualFactoriel(8)"
   ]
  },
  {
   "cell_type": "code",
   "execution_count": null,
   "id": "5aa3b0b3",
   "metadata": {},
   "outputs": [],
   "source": []
  },
  {
   "cell_type": "code",
   "execution_count": null,
   "id": "cdd3f078",
   "metadata": {},
   "outputs": [],
   "source": []
  }
 ],
 "metadata": {
  "kernelspec": {
   "display_name": "Python 3 (ipykernel)",
   "language": "python",
   "name": "python3"
  },
  "language_info": {
   "codemirror_mode": {
    "name": "ipython",
    "version": 3
   },
   "file_extension": ".py",
   "mimetype": "text/x-python",
   "name": "python",
   "nbconvert_exporter": "python",
   "pygments_lexer": "ipython3",
   "version": "3.10.9"
  }
 },
 "nbformat": 4,
 "nbformat_minor": 5
}
