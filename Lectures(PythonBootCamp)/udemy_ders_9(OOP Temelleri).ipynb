{
 "cells": [
  {
   "cell_type": "markdown",
   "id": "6bb2c5ea",
   "metadata": {},
   "source": [
    "# Inheritance = (c)kalıtım, (N)Veraset, miras"
   ]
  },
  {
   "cell_type": "code",
   "execution_count": 80,
   "id": "22444f94",
   "metadata": {},
   "outputs": [],
   "source": [
    "class Musician():\n",
    "    def __init__(self, name):\n",
    "        self.name = name\n",
    "        print(\"Musician class\")\n",
    "    def test1(self):\n",
    "        print(\"Test 1\")\n",
    "    def test2(self):\n",
    "        print(\"Test 2\") "
   ]
  },
  {
   "cell_type": "code",
   "execution_count": 81,
   "id": "5667303d",
   "metadata": {},
   "outputs": [
    {
     "name": "stdout",
     "output_type": "stream",
     "text": [
      "Musician class\n"
     ]
    }
   ],
   "source": [
    "alperen = Musician(\"Alperen Arda\")"
   ]
  },
  {
   "cell_type": "code",
   "execution_count": 82,
   "id": "8b9678af",
   "metadata": {},
   "outputs": [
    {
     "data": {
      "text/plain": [
       "'Alperen Arda'"
      ]
     },
     "execution_count": 82,
     "metadata": {},
     "output_type": "execute_result"
    }
   ],
   "source": [
    "alperen.name "
   ]
  },
  {
   "cell_type": "code",
   "execution_count": 83,
   "id": "4d1d13fe",
   "metadata": {},
   "outputs": [
    {
     "name": "stdout",
     "output_type": "stream",
     "text": [
      "Test 1\n"
     ]
    }
   ],
   "source": [
    "alperen.test1()"
   ]
  },
  {
   "cell_type": "code",
   "execution_count": 84,
   "id": "22f444de",
   "metadata": {},
   "outputs": [
    {
     "name": "stdout",
     "output_type": "stream",
     "text": [
      "Test 2\n"
     ]
    }
   ],
   "source": [
    "alperen.test2()"
   ]
  },
  {
   "cell_type": "code",
   "execution_count": 85,
   "id": "6838d12b",
   "metadata": {},
   "outputs": [],
   "source": [
    "class MusicianPlus(Musician):\n",
    "    def __init__(self, name):\n",
    "        Musician.__init__(self, name)\n",
    "        print(\"Musician Plus\")\n",
    "    def test3(self):\n",
    "        print(\"Test 3\")"
   ]
  },
  {
   "cell_type": "code",
   "execution_count": 86,
   "id": "420c815f",
   "metadata": {},
   "outputs": [
    {
     "name": "stdout",
     "output_type": "stream",
     "text": [
      "Musician class\n",
      "Musician Plus\n"
     ]
    }
   ],
   "source": [
    "baturalp = MusicianPlus(\"remember\")"
   ]
  },
  {
   "cell_type": "code",
   "execution_count": 87,
   "id": "e1b60695",
   "metadata": {},
   "outputs": [
    {
     "data": {
      "text/plain": [
       "'remember'"
      ]
     },
     "execution_count": 87,
     "metadata": {},
     "output_type": "execute_result"
    }
   ],
   "source": [
    "baturalp.name"
   ]
  },
  {
   "cell_type": "code",
   "execution_count": 88,
   "id": "1d45ebbe",
   "metadata": {},
   "outputs": [
    {
     "name": "stdout",
     "output_type": "stream",
     "text": [
      "Test 1\n"
     ]
    }
   ],
   "source": [
    "baturalp.test1()"
   ]
  },
  {
   "cell_type": "code",
   "execution_count": 89,
   "id": "870c36c1",
   "metadata": {},
   "outputs": [],
   "source": [
    "baturalp.name = \"Baturalp Arda\""
   ]
  },
  {
   "cell_type": "code",
   "execution_count": 90,
   "id": "563301cf",
   "metadata": {},
   "outputs": [
    {
     "data": {
      "text/plain": [
       "'Baturalp Arda'"
      ]
     },
     "execution_count": 90,
     "metadata": {},
     "output_type": "execute_result"
    }
   ],
   "source": [
    "baturalp.name"
   ]
  },
  {
   "cell_type": "code",
   "execution_count": 91,
   "id": "dd8c96cd",
   "metadata": {},
   "outputs": [
    {
     "data": {
      "text/plain": [
       "__main__.Musician"
      ]
     },
     "execution_count": 91,
     "metadata": {},
     "output_type": "execute_result"
    }
   ],
   "source": [
    "type(alperen)"
   ]
  },
  {
   "cell_type": "code",
   "execution_count": 92,
   "id": "39826d21",
   "metadata": {},
   "outputs": [
    {
     "data": {
      "text/plain": [
       "__main__.MusicianPlus"
      ]
     },
     "execution_count": 92,
     "metadata": {},
     "output_type": "execute_result"
    }
   ],
   "source": [
    "type(baturalp)"
   ]
  },
  {
   "cell_type": "code",
   "execution_count": 93,
   "id": "bd6300a5",
   "metadata": {},
   "outputs": [],
   "source": [
    "#Yani kalitim(inheritance) bir sinifi digerine kopyalar. AMA Musician daki metodlari MusicianPlus\n",
    "#kullanabilirken MusicianPlus taki metodlari Musician kullanamaz."
   ]
  },
  {
   "cell_type": "code",
   "execution_count": 94,
   "id": "206b95a9",
   "metadata": {},
   "outputs": [
    {
     "name": "stdout",
     "output_type": "stream",
     "text": [
      "Test 3\n"
     ]
    }
   ],
   "source": [
    "baturalp.test3()"
   ]
  },
  {
   "cell_type": "code",
   "execution_count": 95,
   "id": "decd88f0",
   "metadata": {},
   "outputs": [],
   "source": [
    "class MusicianPlus(Musician):\n",
    "    def __init__(self, name):\n",
    "        Musician.__init__(self, name)\n",
    "        print(\"Musician Plus\")\n",
    "    def test3(self):\n",
    "        print(\"Test 3\")\n",
    "    def test1(self):\n",
    "        print(\"Test 1 Test 1 Test 1 Test 1\")\n",
    "    #baska siniflarda methodlari degistirebiliriz ve buna override(yeni davranis, yeniden yazma) denir"
   ]
  },
  {
   "cell_type": "code",
   "execution_count": 96,
   "id": "943ec6b3",
   "metadata": {},
   "outputs": [
    {
     "name": "stdout",
     "output_type": "stream",
     "text": [
      "Musician class\n",
      "Musician Plus\n"
     ]
    }
   ],
   "source": [
    "baturalp = MusicianPlus(\"ARDA\")"
   ]
  },
  {
   "cell_type": "code",
   "execution_count": 97,
   "id": "d59680b2",
   "metadata": {},
   "outputs": [
    {
     "name": "stdout",
     "output_type": "stream",
     "text": [
      "Test 1\n"
     ]
    }
   ],
   "source": [
    "alperen.test1()"
   ]
  },
  {
   "cell_type": "code",
   "execution_count": 98,
   "id": "91168160",
   "metadata": {},
   "outputs": [
    {
     "name": "stdout",
     "output_type": "stream",
     "text": [
      "Test 1 Test 1 Test 1 Test 1\n"
     ]
    }
   ],
   "source": [
    "baturalp.test1()"
   ]
  },
  {
   "cell_type": "markdown",
   "id": "7c89c3b3",
   "metadata": {},
   "source": [
    "# Polymorphism (veri elemanlarına türlerine göre dinamik işlem uygulanan nesne yönelimli bir programlama özelliği)"
   ]
  },
  {
   "cell_type": "code",
   "execution_count": 99,
   "id": "7c378171",
   "metadata": {},
   "outputs": [],
   "source": [
    "class Banana():\n",
    "    def __init__(self, name):\n",
    "        self.name = name\n",
    "    def info(self):\n",
    "        return f\"100 calories {self.name}\"\n",
    "class Apple():\n",
    "    def __init__(self, name):\n",
    "        self.name = name\n",
    "    def info(self):\n",
    "        return f\"150 calories {self.name}\""
   ]
  },
  {
   "cell_type": "code",
   "execution_count": 100,
   "id": "1bf43ad2",
   "metadata": {},
   "outputs": [],
   "source": [
    "banana = Banana(\"banana\")"
   ]
  },
  {
   "cell_type": "code",
   "execution_count": 101,
   "id": "5bb8bdd4",
   "metadata": {},
   "outputs": [],
   "source": [
    "apple = Apple(\"nuyorkzidi\")"
   ]
  },
  {
   "cell_type": "code",
   "execution_count": 102,
   "id": "3983516b",
   "metadata": {},
   "outputs": [
    {
     "data": {
      "text/plain": [
       "'100 calories banana'"
      ]
     },
     "execution_count": 102,
     "metadata": {},
     "output_type": "execute_result"
    }
   ],
   "source": [
    "banana.info()"
   ]
  },
  {
   "cell_type": "code",
   "execution_count": 103,
   "id": "c9f16021",
   "metadata": {},
   "outputs": [
    {
     "data": {
      "text/plain": [
       "'150 calories nuyorkzidi'"
      ]
     },
     "execution_count": 103,
     "metadata": {},
     "output_type": "execute_result"
    }
   ],
   "source": [
    "apple.info()"
   ]
  },
  {
   "cell_type": "code",
   "execution_count": 104,
   "id": "a055a58d",
   "metadata": {},
   "outputs": [],
   "source": [
    "fruitList = [apple, banana]"
   ]
  },
  {
   "cell_type": "code",
   "execution_count": 105,
   "id": "504ba576",
   "metadata": {},
   "outputs": [
    {
     "name": "stdout",
     "output_type": "stream",
     "text": [
      "150 calories nuyorkzidi\n",
      "100 calories banana\n"
     ]
    }
   ],
   "source": [
    "for fruit in fruitList:\n",
    "    print(fruit.info())\n",
    "#bu kodda iki sinifta da info methodu olmasina ragmen sorun cikarmadan calistiriyor. Buna\n",
    "#polymorphism(cok bicimlilik olarak da cevrilebilir) denir."
   ]
  },
  {
   "cell_type": "markdown",
   "id": "3aab84e9",
   "metadata": {},
   "source": [
    "# Encapsulation (Kapsülleme)"
   ]
  },
  {
   "cell_type": "code",
   "execution_count": 106,
   "id": "7b2c1da6",
   "metadata": {},
   "outputs": [],
   "source": [
    "class Phone():\n",
    "    def __init__(self, name, price):\n",
    "        self.name = name\n",
    "        self.__price = price\n",
    "    def info(self):\n",
    "        print(f\"Price of {self.name} is {self.__price}$\")\n",
    "        \n",
    "    def changePrice(self, price):#istersek buraya fonksiyon calistirarak fiyat degistirme opsiyonu sunabiliriz.\n",
    "        self.__price = price"
   ]
  },
  {
   "cell_type": "code",
   "execution_count": 107,
   "id": "657d17dc",
   "metadata": {},
   "outputs": [],
   "source": [
    "iphone = Phone(\"Iphone\", 1000)"
   ]
  },
  {
   "cell_type": "code",
   "execution_count": 108,
   "id": "c1fc92f9",
   "metadata": {},
   "outputs": [
    {
     "name": "stdout",
     "output_type": "stream",
     "text": [
      "Price of Iphone is 1000$\n"
     ]
    }
   ],
   "source": [
    "iphone.info()"
   ]
  },
  {
   "cell_type": "code",
   "execution_count": 109,
   "id": "ae6c89ee",
   "metadata": {},
   "outputs": [],
   "source": [
    "samsung = Phone(\"Samsung\", 800)"
   ]
  },
  {
   "cell_type": "code",
   "execution_count": 110,
   "id": "657b31d6",
   "metadata": {},
   "outputs": [
    {
     "name": "stdout",
     "output_type": "stream",
     "text": [
      "Price of Samsung is 800$\n"
     ]
    }
   ],
   "source": [
    "samsung.info()"
   ]
  },
  {
   "cell_type": "code",
   "execution_count": 111,
   "id": "cc8e6ca2",
   "metadata": {},
   "outputs": [
    {
     "data": {
      "text/plain": [
       "\"Ornegin fiyat bizim icin onemli ve degistirmeyi engellememiz gerek. bunun icin price yerine\\n__price yazmamiz gerek. C#'ta __ yapmak yerine public veya private kullanmamiz gerekiyordu.\""
      ]
     },
     "execution_count": 111,
     "metadata": {},
     "output_type": "execute_result"
    }
   ],
   "source": [
    "\"\"\"Ornegin fiyat bizim icin onemli ve degistirmeyi engellememiz gerek. bunun icin price yerine\n",
    "__price yazmamiz gerek. C#'ta __ yapmak yerine public veya private kullanmamiz gerekiyordu.\"\"\""
   ]
  },
  {
   "cell_type": "code",
   "execution_count": 112,
   "id": "1e48f242",
   "metadata": {},
   "outputs": [],
   "source": [
    "iphone.price = 400"
   ]
  },
  {
   "cell_type": "code",
   "execution_count": 113,
   "id": "4e8c5f58",
   "metadata": {},
   "outputs": [
    {
     "name": "stdout",
     "output_type": "stream",
     "text": [
      "Price of Iphone is 1000$\n"
     ]
    }
   ],
   "source": [
    "iphone.info() #400$'a esitlememize ragmen yine 1000$ yazdi. Bunun sebebi __price yapmamizdir."
   ]
  },
  {
   "cell_type": "code",
   "execution_count": 114,
   "id": "9a512bd2",
   "metadata": {},
   "outputs": [],
   "source": [
    "iphone.changePrice(400)"
   ]
  },
  {
   "cell_type": "code",
   "execution_count": 115,
   "id": "a96586b6",
   "metadata": {},
   "outputs": [
    {
     "name": "stdout",
     "output_type": "stream",
     "text": [
      "Price of Iphone is 400$\n"
     ]
    }
   ],
   "source": [
    "iphone.info()"
   ]
  },
  {
   "cell_type": "markdown",
   "id": "a86953b5",
   "metadata": {},
   "source": [
    "# Abstraction = somutlama"
   ]
  },
  {
   "cell_type": "code",
   "execution_count": 116,
   "id": "3e57065d",
   "metadata": {},
   "outputs": [],
   "source": [
    "from abc import ABC, abstractmethod"
   ]
  },
  {
   "cell_type": "code",
   "execution_count": 117,
   "id": "4a602ac6",
   "metadata": {},
   "outputs": [],
   "source": [
    "class Car(ABC):\n",
    "    @abstractmethod\n",
    "    def maxSpeed(self):\n",
    "        pass"
   ]
  },
  {
   "cell_type": "code",
   "execution_count": 118,
   "id": "6eb42edf",
   "metadata": {},
   "outputs": [],
   "source": [
    "#araba = Car()\n",
    "#boyle bir nesne olusturulamaz. Cunku Car sinifi soyutlanmis ve sadece soyutlanmayan siniflarda nesne\n",
    "#olusturulabilir. Boylece olusturulan yeni siniflara Car sinifini eklersek Car sinifindaki metodlara \n",
    "#gore yazilmak zorunda kalacaklar.(maxSpee)"
   ]
  },
  {
   "cell_type": "code",
   "execution_count": 119,
   "id": "e7a64eea",
   "metadata": {},
   "outputs": [],
   "source": [
    "class Tesla(Car):\n",
    "    \n",
    "    def maxSpeed(self):\n",
    "        print(\"Speed: 200 km \")"
   ]
  },
  {
   "cell_type": "code",
   "execution_count": 120,
   "id": "01901d73",
   "metadata": {},
   "outputs": [],
   "source": [
    "tesla = Tesla()"
   ]
  },
  {
   "cell_type": "code",
   "execution_count": 121,
   "id": "09e54ee7",
   "metadata": {},
   "outputs": [
    {
     "name": "stdout",
     "output_type": "stream",
     "text": [
      "Speed: 200 km \n"
     ]
    }
   ],
   "source": [
    "tesla.maxSpeed()"
   ]
  },
  {
   "cell_type": "code",
   "execution_count": 122,
   "id": "69ddd60f",
   "metadata": {},
   "outputs": [],
   "source": [
    "class Mercedes(Car):\n",
    "    \n",
    "    def maxSpeed(self):\n",
    "        print(\"Speed: 250 km\")"
   ]
  },
  {
   "cell_type": "code",
   "execution_count": 123,
   "id": "91726f3b",
   "metadata": {},
   "outputs": [],
   "source": [
    "mercedes = Mercedes()"
   ]
  },
  {
   "cell_type": "code",
   "execution_count": 124,
   "id": "88d1dbca",
   "metadata": {},
   "outputs": [
    {
     "name": "stdout",
     "output_type": "stream",
     "text": [
      "Speed: 250 km\n"
     ]
    }
   ],
   "source": [
    "mercedes.maxSpeed()"
   ]
  },
  {
   "cell_type": "markdown",
   "id": "57f67851",
   "metadata": {},
   "source": [
    "# Special Methods"
   ]
  },
  {
   "cell_type": "code",
   "execution_count": 125,
   "id": "f7a075ba",
   "metadata": {},
   "outputs": [],
   "source": [
    "class Fruit():\n",
    "    def __init__(self, name, calorie):\n",
    "        self.name = name\n",
    "        self.calorie = calorie\n",
    "    "
   ]
  },
  {
   "cell_type": "code",
   "execution_count": 126,
   "id": "b16e6cf0",
   "metadata": {},
   "outputs": [],
   "source": [
    "ourFruit = Fruit('Strawberry',500)"
   ]
  },
  {
   "cell_type": "code",
   "execution_count": 127,
   "id": "bcb00dd8",
   "metadata": {},
   "outputs": [
    {
     "data": {
      "text/plain": [
       "500"
      ]
     },
     "execution_count": 127,
     "metadata": {},
     "output_type": "execute_result"
    }
   ],
   "source": [
    "ourFruit.calorie"
   ]
  },
  {
   "cell_type": "code",
   "execution_count": 128,
   "id": "16c8cb63",
   "metadata": {},
   "outputs": [
    {
     "data": {
      "text/plain": [
       "'Strawberry'"
      ]
     },
     "execution_count": 128,
     "metadata": {},
     "output_type": "execute_result"
    }
   ],
   "source": [
    "ourFruit.name"
   ]
  },
  {
   "cell_type": "code",
   "execution_count": 129,
   "id": "cba409cc",
   "metadata": {},
   "outputs": [
    {
     "name": "stdout",
     "output_type": "stream",
     "text": [
      "<__main__.Fruit object at 0x00000180A2D7DE90>\n"
     ]
    }
   ],
   "source": [
    "print(ourFruit)\n",
    "#Dogal olarak print fonskiyonu sadece '<__main__.Fruit object at 0x000001CC4FD027D0>' yazdi.\n",
    "#Eger biz fonksiyonun islevini degistirmek istiyorsak ozel methodlar kullanmaliyiz."
   ]
  },
  {
   "cell_type": "code",
   "execution_count": 130,
   "id": "fc47167d",
   "metadata": {},
   "outputs": [],
   "source": [
    "class Fruit():\n",
    "    def __init__(self, name, calorie):\n",
    "        self.name = name\n",
    "        self.calorie = calorie\n",
    "    def __str__(self):\n",
    "        return f\"{self.name} is {self.calorie} calories\"\n",
    "    def __len__(self):\n",
    "        x = 0\n",
    "        while x <= 10:\n",
    "            print(\"myFruit\")\n",
    "            x = x + 1\n",
    "    "
   ]
  },
  {
   "cell_type": "code",
   "execution_count": 131,
   "id": "130a2881",
   "metadata": {},
   "outputs": [],
   "source": [
    "myFruit = Fruit(\"Apple\", 250)"
   ]
  },
  {
   "cell_type": "code",
   "execution_count": 132,
   "id": "82cf376e",
   "metadata": {},
   "outputs": [
    {
     "name": "stdout",
     "output_type": "stream",
     "text": [
      "Apple is 250 calories\n"
     ]
    }
   ],
   "source": [
    "print(myFruit)\n",
    "#print fonksiyonun islevi degisti."
   ]
  },
  {
   "cell_type": "code",
   "execution_count": 133,
   "id": "8d46c9c4",
   "metadata": {},
   "outputs": [],
   "source": [
    "class Train():\n",
    "    def __init__(self, name):\n",
    "        self.name = name\n",
    "    def __getitem__(self, key):\n",
    "        if key == \"a\":\n",
    "            return self.name\n",
    "        else:\n",
    "            return print(\"NOT FOUND\")"
   ]
  },
  {
   "cell_type": "code",
   "execution_count": 134,
   "id": "cc634aa8",
   "metadata": {},
   "outputs": [],
   "source": [
    "TCDD = Train(\"Siemens\")"
   ]
  },
  {
   "cell_type": "code",
   "execution_count": 135,
   "id": "b58da960",
   "metadata": {},
   "outputs": [
    {
     "data": {
      "text/plain": [
       "'Siemens'"
      ]
     },
     "execution_count": 135,
     "metadata": {},
     "output_type": "execute_result"
    }
   ],
   "source": [
    "TCDD[\"a\"]"
   ]
  },
  {
   "cell_type": "code",
   "execution_count": null,
   "id": "88fd99f1",
   "metadata": {},
   "outputs": [],
   "source": []
  },
  {
   "cell_type": "code",
   "execution_count": 136,
   "id": "157a141a",
   "metadata": {},
   "outputs": [
    {
     "name": "stdout",
     "output_type": "stream",
     "text": [
      "NOT FOUND\n"
     ]
    }
   ],
   "source": [
    "TCDD[\"alponzo\"]"
   ]
  },
  {
   "cell_type": "code",
   "execution_count": 140,
   "id": "6ee55cc5",
   "metadata": {},
   "outputs": [
    {
     "name": "stdout",
     "output_type": "stream",
     "text": [
      "Noluyo ln\n"
     ]
    }
   ],
   "source": [
    "#1 yıl sonra örnek...\n",
    "class my_abstractClass(ABC):\n",
    "    @abstractmethod\n",
    "    def checkAge(self):\n",
    "        pass\n",
    "\n",
    "class calculateAge(my_abstractClass):\n",
    "    def __init__(self, age):\n",
    "        self.age = age\n",
    "    def checkAge(self):\n",
    "        if self.age < 18:\n",
    "            print(\"Giris yasak\")\n",
    "        elif self.age <= 0 or self.age >= 100:\n",
    "            print(\"Noluyo ln\")\n",
    "        else:\n",
    "            print(\"Hocam, önemli, notumu aldım.\")\n",
    "\n",
    "alperenNew = calculateAge(4878)\n",
    "alperenNew.checkAge()\n"
   ]
  },
  {
   "cell_type": "code",
   "execution_count": null,
   "id": "bb513e37",
   "metadata": {},
   "outputs": [],
   "source": []
  }
 ],
 "metadata": {
  "kernelspec": {
   "display_name": "Python 3 (ipykernel)",
   "language": "python",
   "name": "python3"
  },
  "language_info": {
   "codemirror_mode": {
    "name": "ipython",
    "version": 3
   },
   "file_extension": ".py",
   "mimetype": "text/x-python",
   "name": "python",
   "nbconvert_exporter": "python",
   "pygments_lexer": "ipython3",
   "version": "3.11.5"
  }
 },
 "nbformat": 4,
 "nbformat_minor": 5
}
