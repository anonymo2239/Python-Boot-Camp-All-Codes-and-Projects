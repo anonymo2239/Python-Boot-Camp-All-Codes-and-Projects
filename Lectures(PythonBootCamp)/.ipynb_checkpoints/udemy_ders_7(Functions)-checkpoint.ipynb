{
 "cells": [
  {
   "cell_type": "code",
   "execution_count": 1,
   "id": "5c9d3ffd",
   "metadata": {},
   "outputs": [],
   "source": [
    "#method vs functions"
   ]
  },
  {
   "cell_type": "code",
   "execution_count": 2,
   "id": "b570c69a",
   "metadata": {},
   "outputs": [],
   "source": [
    "my_name = \"alperen\""
   ]
  },
  {
   "cell_type": "code",
   "execution_count": 3,
   "id": "5625c9a0",
   "metadata": {},
   "outputs": [
    {
     "data": {
      "text/plain": [
       "'alperen'"
      ]
     },
     "execution_count": 3,
     "metadata": {},
     "output_type": "execute_result"
    }
   ],
   "source": [
    "my_name"
   ]
  },
  {
   "cell_type": "code",
   "execution_count": 4,
   "id": "3128266e",
   "metadata": {},
   "outputs": [
    {
     "data": {
      "text/plain": [
       "'ALPEREN'"
      ]
     },
     "execution_count": 4,
     "metadata": {},
     "output_type": "execute_result"
    }
   ],
   "source": [
    "my_name.upper()"
   ]
  },
  {
   "cell_type": "code",
   "execution_count": 5,
   "id": "358b1ac5",
   "metadata": {},
   "outputs": [
    {
     "data": {
      "text/plain": [
       "True"
      ]
     },
     "execution_count": 5,
     "metadata": {},
     "output_type": "execute_result"
    }
   ],
   "source": [
    "my_name.islower()"
   ]
  },
  {
   "cell_type": "code",
   "execution_count": 6,
   "id": "63705837",
   "metadata": {},
   "outputs": [],
   "source": [
    "#functions"
   ]
  },
  {
   "cell_type": "code",
   "execution_count": 7,
   "id": "32d49060",
   "metadata": {},
   "outputs": [],
   "source": [
    "def hello_python():\n",
    "    print(\"Hello\")\n",
    "    print(\"Turkiye\")"
   ]
  },
  {
   "cell_type": "code",
   "execution_count": 8,
   "id": "e77fb513",
   "metadata": {},
   "outputs": [
    {
     "name": "stdout",
     "output_type": "stream",
     "text": [
      "Hello\n",
      "Turkiye\n"
     ]
    }
   ],
   "source": [
    "hello_python()"
   ]
  },
  {
   "cell_type": "code",
   "execution_count": 9,
   "id": "1eaa6b7a",
   "metadata": {},
   "outputs": [],
   "source": [
    "def printYourname(name):\n",
    "    print(name)\n",
    "    type(name)"
   ]
  },
  {
   "cell_type": "code",
   "execution_count": 10,
   "id": "1d5e15fd",
   "metadata": {},
   "outputs": [
    {
     "name": "stdout",
     "output_type": "stream",
     "text": [
      "39\n"
     ]
    }
   ],
   "source": [
    "printYourname(39)\n"
   ]
  },
  {
   "cell_type": "code",
   "execution_count": 11,
   "id": "51329e5d",
   "metadata": {},
   "outputs": [],
   "source": [
    "def sum_numbers(num1, num2):\n",
    "    print(num1 + num2)"
   ]
  },
  {
   "cell_type": "code",
   "execution_count": 12,
   "id": "232d7e32",
   "metadata": {},
   "outputs": [
    {
     "name": "stdout",
     "output_type": "stream",
     "text": [
      "15\n"
     ]
    }
   ],
   "source": [
    "sum_numbers(5, 10)"
   ]
  },
  {
   "cell_type": "code",
   "execution_count": 13,
   "id": "5b5e2189",
   "metadata": {},
   "outputs": [
    {
     "name": "stdout",
     "output_type": "stream",
     "text": [
      "84\n"
     ]
    }
   ],
   "source": [
    "sum_numbers(78, 6)"
   ]
  },
  {
   "cell_type": "code",
   "execution_count": 14,
   "id": "4ea3508c",
   "metadata": {},
   "outputs": [],
   "source": [
    "def helloSurname(soyad = \"Arda\"):\n",
    "    print(f\"Hello {soyad}\")"
   ]
  },
  {
   "cell_type": "code",
   "execution_count": 15,
   "id": "718318e9",
   "metadata": {},
   "outputs": [
    {
     "name": "stdout",
     "output_type": "stream",
     "text": [
      "Hello Cafer\n"
     ]
    }
   ],
   "source": [
    "helloSurname(\"Cafer\")"
   ]
  },
  {
   "cell_type": "code",
   "execution_count": 16,
   "id": "e60ebdd5",
   "metadata": {},
   "outputs": [
    {
     "name": "stdout",
     "output_type": "stream",
     "text": [
      "Hello Arda\n"
     ]
    }
   ],
   "source": [
    "helloSurname()"
   ]
  },
  {
   "cell_type": "code",
   "execution_count": 17,
   "id": "8d6b94b2",
   "metadata": {},
   "outputs": [],
   "source": [
    "alperensList = [10,20,30,40,50,60,70]"
   ]
  },
  {
   "cell_type": "code",
   "execution_count": 18,
   "id": "f2777c78",
   "metadata": {},
   "outputs": [
    {
     "name": "stdout",
     "output_type": "stream",
     "text": [
      "0\n",
      "1\n",
      "2\n",
      "3\n",
      "4\n",
      "5\n",
      "6\n"
     ]
    }
   ],
   "source": [
    "for (ix,iy) in enumerate(alperensList):\n",
    "    print(ix)"
   ]
  },
  {
   "cell_type": "code",
   "execution_count": 19,
   "id": "bf379b56",
   "metadata": {},
   "outputs": [],
   "source": [
    "#return ^v^"
   ]
  },
  {
   "cell_type": "code",
   "execution_count": 20,
   "id": "41b882ef",
   "metadata": {},
   "outputs": [],
   "source": [
    "def summation(num1, num2, num3):\n",
    "    z = num1 * num2 / num3\n",
    "    return z"
   ]
  },
  {
   "cell_type": "code",
   "execution_count": 21,
   "id": "9468ca8f",
   "metadata": {},
   "outputs": [],
   "source": [
    "x = summation(1,4,23)"
   ]
  },
  {
   "cell_type": "code",
   "execution_count": 22,
   "id": "0d36af28",
   "metadata": {},
   "outputs": [
    {
     "data": {
      "text/plain": [
       "0.17391304347826086"
      ]
     },
     "execution_count": 22,
     "metadata": {},
     "output_type": "execute_result"
    }
   ],
   "source": [
    "x"
   ]
  },
  {
   "cell_type": "code",
   "execution_count": 23,
   "id": "d076c1c3",
   "metadata": {},
   "outputs": [
    {
     "data": {
      "text/plain": [
       "float"
      ]
     },
     "execution_count": 23,
     "metadata": {},
     "output_type": "execute_result"
    }
   ],
   "source": [
    "type(x)"
   ]
  },
  {
   "cell_type": "code",
   "execution_count": 24,
   "id": "743c88d8",
   "metadata": {},
   "outputs": [],
   "source": [
    "def control_string(s):\n",
    "    if s[0] == \"a\":\n",
    "        print(s[0])\n"
   ]
  },
  {
   "cell_type": "code",
   "execution_count": 25,
   "id": "4c052e0f",
   "metadata": {},
   "outputs": [
    {
     "name": "stdout",
     "output_type": "stream",
     "text": [
      "a\n"
     ]
    }
   ],
   "source": [
    "control_string(\"alperen\")"
   ]
  },
  {
   "cell_type": "code",
   "execution_count": 26,
   "id": "e6480241",
   "metadata": {},
   "outputs": [],
   "source": [
    "control_string(\"balberen\")"
   ]
  },
  {
   "cell_type": "code",
   "execution_count": 27,
   "id": "65468995",
   "metadata": {},
   "outputs": [
    {
     "name": "stdout",
     "output_type": "stream",
     "text": [
      "a\n"
     ]
    }
   ],
   "source": [
    "control_string(\"arda\")"
   ]
  },
  {
   "cell_type": "code",
   "execution_count": 28,
   "id": "95cc26a2",
   "metadata": {},
   "outputs": [],
   "source": [
    "def summation(*args):\n",
    "    return sum(args)"
   ]
  },
  {
   "cell_type": "code",
   "execution_count": 29,
   "id": "2feaedeb",
   "metadata": {},
   "outputs": [
    {
     "data": {
      "text/plain": [
       "12190"
      ]
     },
     "execution_count": 29,
     "metadata": {},
     "output_type": "execute_result"
    }
   ],
   "source": [
    "summation(4,7,2,5,1,8,34,234,234,42,434,24,2323,423,4234,3423,4,23,423,4,234,23,47)"
   ]
  },
  {
   "cell_type": "code",
   "execution_count": 30,
   "id": "69dd22eb",
   "metadata": {},
   "outputs": [],
   "source": [
    "def args_example(*args):\n",
    "    print(args)"
   ]
  },
  {
   "cell_type": "code",
   "execution_count": 31,
   "id": "f726beb3",
   "metadata": {},
   "outputs": [
    {
     "name": "stdout",
     "output_type": "stream",
     "text": [
      "(2, 34, 342, 342, 42)\n"
     ]
    },
    {
     "data": {
      "text/plain": [
       "NoneType"
      ]
     },
     "execution_count": 31,
     "metadata": {},
     "output_type": "execute_result"
    }
   ],
   "source": [
    "type(args_example(2,34,342,342,42))"
   ]
  },
  {
   "cell_type": "code",
   "execution_count": 32,
   "id": "4fabc97b",
   "metadata": {},
   "outputs": [],
   "source": [
    "def kwargs_example(**kwargs):\n",
    "    print(kwargs)"
   ]
  },
  {
   "cell_type": "code",
   "execution_count": 33,
   "id": "81e23004",
   "metadata": {},
   "outputs": [
    {
     "name": "stdout",
     "output_type": "stream",
     "text": [
      "{'apple': 100, 'banana': 150, 'melon': 233}\n"
     ]
    }
   ],
   "source": [
    "kwargs_example(apple = 100, banana = 150, melon = 233)"
   ]
  },
  {
   "cell_type": "code",
   "execution_count": 34,
   "id": "d12589e4",
   "metadata": {},
   "outputs": [],
   "source": [
    "#yukaridaki args ya da kwargs cikti olarak tuple ve dictionary gosterse bile fonksiyonun tipi function'dur."
   ]
  },
  {
   "cell_type": "code",
   "execution_count": 35,
   "id": "21a0ed77",
   "metadata": {},
   "outputs": [],
   "source": [
    "def kwargs_example(**kwargs):\n",
    "    if \"apple\" in kwargs:\n",
    "        print(\"appleeee\")\n",
    "    else:\n",
    "        print(\":(\")"
   ]
  },
  {
   "cell_type": "code",
   "execution_count": 36,
   "id": "374014a8",
   "metadata": {},
   "outputs": [
    {
     "name": "stdout",
     "output_type": "stream",
     "text": [
      ":(\n"
     ]
    }
   ],
   "source": [
    "kwargs_example(banana = 150, melon = 233)"
   ]
  },
  {
   "cell_type": "code",
   "execution_count": 72,
   "id": "15b63bd7",
   "metadata": {},
   "outputs": [
    {
     "data": {
      "text/plain": [
       "function"
      ]
     },
     "execution_count": 72,
     "metadata": {},
     "output_type": "execute_result"
    }
   ],
   "source": [
    "type(helloSurname)"
   ]
  },
  {
   "cell_type": "markdown",
   "id": "8cd86d78",
   "metadata": {},
   "source": [
    "### PRACTICAL FUNCTIONS"
   ]
  },
  {
   "cell_type": "code",
   "execution_count": 38,
   "id": "bbfb628a",
   "metadata": {},
   "outputs": [],
   "source": [
    "def divideTwo(x):\n",
    "    return x/2"
   ]
  },
  {
   "cell_type": "code",
   "execution_count": 39,
   "id": "3ecbcee4",
   "metadata": {},
   "outputs": [
    {
     "data": {
      "text/plain": [
       "17.0"
      ]
     },
     "execution_count": 39,
     "metadata": {},
     "output_type": "execute_result"
    }
   ],
   "source": [
    "divideTwo(34)"
   ]
  },
  {
   "cell_type": "code",
   "execution_count": 40,
   "id": "5964013b",
   "metadata": {},
   "outputs": [],
   "source": [
    "myList = [3,5,7,10,20,30]\n",
    "emptyList = []"
   ]
  },
  {
   "cell_type": "code",
   "execution_count": 41,
   "id": "2e5f342c",
   "metadata": {},
   "outputs": [],
   "source": [
    "emptyList.clear()\n",
    "for numb in myList:\n",
    "    emptyList.append(divideTwo(numb))    "
   ]
  },
  {
   "cell_type": "code",
   "execution_count": 42,
   "id": "73e9ebd1",
   "metadata": {},
   "outputs": [
    {
     "data": {
      "text/plain": [
       "[1.5, 2.5, 3.5, 5.0, 10.0, 15.0]"
      ]
     },
     "execution_count": 42,
     "metadata": {},
     "output_type": "execute_result"
    }
   ],
   "source": [
    "emptyList"
   ]
  },
  {
   "cell_type": "markdown",
   "id": "26c0992b",
   "metadata": {},
   "source": [
    "# using map --> map bir siniftir."
   ]
  },
  {
   "cell_type": "code",
   "execution_count": 43,
   "id": "a8b8a132",
   "metadata": {},
   "outputs": [
    {
     "name": "stdout",
     "output_type": "stream",
     "text": [
      "Help on class map in module builtins:\n",
      "\n",
      "class map(object)\n",
      " |  map(func, *iterables) --> map object\n",
      " |  \n",
      " |  Make an iterator that computes the function using arguments from\n",
      " |  each of the iterables.  Stops when the shortest iterable is exhausted.\n",
      " |  \n",
      " |  Methods defined here:\n",
      " |  \n",
      " |  __getattribute__(self, name, /)\n",
      " |      Return getattr(self, name).\n",
      " |  \n",
      " |  __iter__(self, /)\n",
      " |      Implement iter(self).\n",
      " |  \n",
      " |  __next__(self, /)\n",
      " |      Implement next(self).\n",
      " |  \n",
      " |  __reduce__(...)\n",
      " |      Return state information for pickling.\n",
      " |  \n",
      " |  ----------------------------------------------------------------------\n",
      " |  Static methods defined here:\n",
      " |  \n",
      " |  __new__(*args, **kwargs) from builtins.type\n",
      " |      Create and return a new object.  See help(type) for accurate signature.\n",
      "\n"
     ]
    }
   ],
   "source": [
    "help(map)"
   ]
  },
  {
   "cell_type": "code",
   "execution_count": 44,
   "id": "cff60bf7",
   "metadata": {},
   "outputs": [
    {
     "data": {
      "text/plain": [
       "<map at 0x1ee59951cc0>"
      ]
     },
     "execution_count": 44,
     "metadata": {},
     "output_type": "execute_result"
    }
   ],
   "source": [
    "map(divideTwo, myList)"
   ]
  },
  {
   "cell_type": "code",
   "execution_count": 45,
   "id": "60b8699d",
   "metadata": {},
   "outputs": [
    {
     "data": {
      "text/plain": [
       "[1.5, 2.5, 3.5, 5.0, 10.0, 15.0]"
      ]
     },
     "execution_count": 45,
     "metadata": {},
     "output_type": "execute_result"
    }
   ],
   "source": [
    "list(map(divideTwo, myList))"
   ]
  },
  {
   "cell_type": "code",
   "execution_count": 46,
   "id": "5d9827d7",
   "metadata": {},
   "outputs": [],
   "source": [
    "def controlString(alponzo):\n",
    "    return \"alperen\" in alponzo"
   ]
  },
  {
   "cell_type": "code",
   "execution_count": 47,
   "id": "8d3d2b37",
   "metadata": {},
   "outputs": [
    {
     "data": {
      "text/plain": [
       "True"
      ]
     },
     "execution_count": 47,
     "metadata": {},
     "output_type": "execute_result"
    }
   ],
   "source": [
    "controlString(\"alperen arda nbr\")"
   ]
  },
  {
   "cell_type": "code",
   "execution_count": 48,
   "id": "0867f33c",
   "metadata": {},
   "outputs": [],
   "source": [
    "#1)map'ler bir listenin vs. tek tek elemanlarini fonksiyona gonderir."
   ]
  },
  {
   "cell_type": "code",
   "execution_count": 49,
   "id": "79759d53",
   "metadata": {},
   "outputs": [],
   "source": [
    "string_list = [\"alperen\",\"arda\",\"adem alperen\",\"dfaffs\"]"
   ]
  },
  {
   "cell_type": "code",
   "execution_count": 50,
   "id": "9cb514eb",
   "metadata": {},
   "outputs": [
    {
     "data": {
      "text/plain": [
       "[True, False, True, False]"
      ]
     },
     "execution_count": 50,
     "metadata": {},
     "output_type": "execute_result"
    }
   ],
   "source": [
    "list(map(controlString, string_list))"
   ]
  },
  {
   "cell_type": "markdown",
   "id": "8129499f",
   "metadata": {},
   "source": [
    "# filter = map in yaptigi gibi elemanlari fonksiyona gonderir ayrica True olanlar ile yeni bir liste olusturur "
   ]
  },
  {
   "cell_type": "code",
   "execution_count": 51,
   "id": "e17b1716",
   "metadata": {},
   "outputs": [
    {
     "data": {
      "text/plain": [
       "['alperen', 'adem alperen']"
      ]
     },
     "execution_count": 51,
     "metadata": {},
     "output_type": "execute_result"
    }
   ],
   "source": [
    "list(filter(controlString,string_list))"
   ]
  },
  {
   "cell_type": "markdown",
   "id": "9c5a6a98",
   "metadata": {},
   "source": [
    "# lambda = tek satirda geri donduren fonksiyon yazmayi saglar."
   ]
  },
  {
   "cell_type": "code",
   "execution_count": 52,
   "id": "9d1d9c84",
   "metadata": {},
   "outputs": [],
   "source": [
    "multiplyLambda = lambda num:num*2"
   ]
  },
  {
   "cell_type": "code",
   "execution_count": 53,
   "id": "a8d66d8a",
   "metadata": {},
   "outputs": [
    {
     "data": {
      "text/plain": [
       "20"
      ]
     },
     "execution_count": 53,
     "metadata": {},
     "output_type": "execute_result"
    }
   ],
   "source": [
    "multiplyLambda(10)"
   ]
  },
  {
   "cell_type": "code",
   "execution_count": 54,
   "id": "34a97fe3",
   "metadata": {},
   "outputs": [
    {
     "data": {
      "text/plain": [
       "function"
      ]
     },
     "execution_count": 54,
     "metadata": {},
     "output_type": "execute_result"
    }
   ],
   "source": [
    "type(multiplyLambda)"
   ]
  },
  {
   "cell_type": "code",
   "execution_count": 55,
   "id": "da412afd",
   "metadata": {},
   "outputs": [],
   "source": [
    "def multiplyLamda2(num):\n",
    "    return num*2"
   ]
  },
  {
   "cell_type": "code",
   "execution_count": 56,
   "id": "bfa53b06",
   "metadata": {},
   "outputs": [
    {
     "data": {
      "text/plain": [
       "20"
      ]
     },
     "execution_count": 56,
     "metadata": {},
     "output_type": "execute_result"
    }
   ],
   "source": [
    "multiplyLamda2(10)"
   ]
  },
  {
   "cell_type": "code",
   "execution_count": 57,
   "id": "0754b342",
   "metadata": {},
   "outputs": [
    {
     "data": {
      "text/plain": [
       "[0.75, 1.25, 1.75, 2.5, 5.0, 7.5]"
      ]
     },
     "execution_count": 57,
     "metadata": {},
     "output_type": "execute_result"
    }
   ],
   "source": [
    "list(map(lambda x:x/4, myList))#Bi kerelik kullanilan fonksiyonlari yazmada kullanilir"
   ]
  },
  {
   "cell_type": "markdown",
   "id": "ff3c800d",
   "metadata": {},
   "source": [
    "# scope(kapsam)"
   ]
  },
  {
   "cell_type": "code",
   "execution_count": 58,
   "id": "d1c3b9d7",
   "metadata": {},
   "outputs": [],
   "source": [
    "x = 20 #burdaki x fonksiyon disinda degerlendiriliyor\n",
    "\n",
    "def multiply(num):\n",
    "    x = 5 #burdaki x fonksiyon kapsaminda degerlendiriliyor.\n",
    "    return num * x"
   ]
  },
  {
   "cell_type": "code",
   "execution_count": 59,
   "id": "94c92cca",
   "metadata": {},
   "outputs": [
    {
     "data": {
      "text/plain": [
       "100"
      ]
     },
     "execution_count": 59,
     "metadata": {},
     "output_type": "execute_result"
    }
   ],
   "source": [
    "multiply(20)"
   ]
  },
  {
   "cell_type": "code",
   "execution_count": 60,
   "id": "d422ef4e",
   "metadata": {},
   "outputs": [
    {
     "data": {
      "text/plain": [
       "20"
      ]
     },
     "execution_count": 60,
     "metadata": {},
     "output_type": "execute_result"
    }
   ],
   "source": [
    "x"
   ]
  },
  {
   "cell_type": "markdown",
   "id": "040a12a6",
   "metadata": {},
   "source": [
    "# LEGB Local, Enclosing = Çevreleyen, Global, Built-In = içinde var olan, yerleşik"
   ]
  },
  {
   "cell_type": "code",
   "execution_count": 61,
   "id": "7585f9ba",
   "metadata": {},
   "outputs": [],
   "source": [
    "#Global\n",
    "myString = \"Alperen\"\n",
    "\n",
    "def myFunction():\n",
    "    #Enclosing\n",
    "    myString = \"Alperen2\"\n",
    "    print(myString) \n",
    "    def myFunction2():\n",
    "        #Local\n",
    "        myString = \"Alperen3\"\n",
    "        print(myString)\n",
    "    myFunction2()"
   ]
  },
  {
   "cell_type": "code",
   "execution_count": 62,
   "id": "615349f6",
   "metadata": {},
   "outputs": [
    {
     "data": {
      "text/plain": [
       "'Alperen'"
      ]
     },
     "execution_count": 62,
     "metadata": {},
     "output_type": "execute_result"
    }
   ],
   "source": [
    "myString"
   ]
  },
  {
   "cell_type": "code",
   "execution_count": 63,
   "id": "1b565887",
   "metadata": {},
   "outputs": [
    {
     "name": "stdout",
     "output_type": "stream",
     "text": [
      "Alperen2\n",
      "Alperen3\n"
     ]
    }
   ],
   "source": [
    "myFunction()"
   ]
  },
  {
   "cell_type": "code",
   "execution_count": 64,
   "id": "20fa15f8",
   "metadata": {},
   "outputs": [],
   "source": [
    "#myFunction2() yaparsak hata verir cunku Global kapsamda 'myFunction2' is not defined"
   ]
  },
  {
   "cell_type": "code",
   "execution_count": 65,
   "id": "72e551b3",
   "metadata": {},
   "outputs": [
    {
     "data": {
      "text/plain": [
       "'Alperen'"
      ]
     },
     "execution_count": 65,
     "metadata": {},
     "output_type": "execute_result"
    }
   ],
   "source": [
    "myString"
   ]
  },
  {
   "cell_type": "code",
   "execution_count": 66,
   "id": "38d301d8",
   "metadata": {},
   "outputs": [],
   "source": [
    "def test1():\n",
    "    myVariable = 10\n",
    "    print(myVariable * 10)\n",
    "def test2():\n",
    "    print(myVariable * 10)\n",
    "#myVariable sadece test1 fonsksiyonunun kapsaminda oldugu icin test2 fonksiyonu bu kodda hata verir."
   ]
  },
  {
   "cell_type": "code",
   "execution_count": 67,
   "id": "cf1f52bb",
   "metadata": {},
   "outputs": [
    {
     "name": "stdout",
     "output_type": "stream",
     "text": [
      "100\n"
     ]
    }
   ],
   "source": [
    "test1()"
   ]
  },
  {
   "cell_type": "code",
   "execution_count": 68,
   "id": "c8f638f7",
   "metadata": {},
   "outputs": [],
   "source": [
    "myVariable = 10\n",
    "def test1():\n",
    "    print(myVariable * 10)\n",
    "def test2():\n",
    "    print(myVariable * 150)\n",
    "#myVariable degiskeni globalde tanımlı oldugu icin her iki fonksiyonda calisir."
   ]
  },
  {
   "cell_type": "code",
   "execution_count": 69,
   "id": "57538802",
   "metadata": {},
   "outputs": [
    {
     "name": "stdout",
     "output_type": "stream",
     "text": [
      "100\n"
     ]
    }
   ],
   "source": [
    "test1()"
   ]
  },
  {
   "cell_type": "code",
   "execution_count": 70,
   "id": "d9a3df7e",
   "metadata": {},
   "outputs": [
    {
     "name": "stdout",
     "output_type": "stream",
     "text": [
      "1500\n"
     ]
    }
   ],
   "source": [
    "test2()"
   ]
  },
  {
   "cell_type": "code",
   "execution_count": 83,
   "id": "f6c38d9a",
   "metadata": {},
   "outputs": [],
   "source": [
    "y = 10\n",
    "def newFunction(y):\n",
    "    print(y)\n",
    "    y = 5\n",
    "    print(y)\n",
    "    return y"
   ]
  },
  {
   "cell_type": "code",
   "execution_count": 86,
   "id": "c5ed278f",
   "metadata": {},
   "outputs": [
    {
     "name": "stdout",
     "output_type": "stream",
     "text": [
      "10\n",
      "5\n"
     ]
    },
    {
     "data": {
      "text/plain": [
       "5"
      ]
     },
     "execution_count": 86,
     "metadata": {},
     "output_type": "execute_result"
    }
   ],
   "source": [
    "newFunction(y)"
   ]
  },
  {
   "cell_type": "code",
   "execution_count": 87,
   "id": "73f273de",
   "metadata": {},
   "outputs": [
    {
     "data": {
      "text/plain": [
       "10"
      ]
     },
     "execution_count": 87,
     "metadata": {},
     "output_type": "execute_result"
    }
   ],
   "source": [
    "y"
   ]
  },
  {
   "cell_type": "code",
   "execution_count": 101,
   "id": "f243ff52",
   "metadata": {},
   "outputs": [],
   "source": [
    "y = 10\n",
    "def changeY():\n",
    "    global y\n",
    "    y = 5\n",
    "    print(y)\n",
    "    return y"
   ]
  },
  {
   "cell_type": "code",
   "execution_count": 104,
   "id": "78e6a334",
   "metadata": {},
   "outputs": [
    {
     "name": "stdout",
     "output_type": "stream",
     "text": [
      "5\n"
     ]
    },
    {
     "data": {
      "text/plain": [
       "5"
      ]
     },
     "execution_count": 104,
     "metadata": {},
     "output_type": "execute_result"
    }
   ],
   "source": [
    "changeY()"
   ]
  },
  {
   "cell_type": "code",
   "execution_count": 105,
   "id": "66fa6c41",
   "metadata": {},
   "outputs": [
    {
     "data": {
      "text/plain": [
       "5"
      ]
     },
     "execution_count": 105,
     "metadata": {},
     "output_type": "execute_result"
    }
   ],
   "source": [
    "y"
   ]
  },
  {
   "cell_type": "code",
   "execution_count": null,
   "id": "b737a829",
   "metadata": {},
   "outputs": [],
   "source": []
  }
 ],
 "metadata": {
  "kernelspec": {
   "display_name": "Python 3 (ipykernel)",
   "language": "python",
   "name": "python3"
  },
  "language_info": {
   "codemirror_mode": {
    "name": "ipython",
    "version": 3
   },
   "file_extension": ".py",
   "mimetype": "text/x-python",
   "name": "python",
   "nbconvert_exporter": "python",
   "pygments_lexer": "ipython3",
   "version": "3.10.9"
  }
 },
 "nbformat": 4,
 "nbformat_minor": 5
}
