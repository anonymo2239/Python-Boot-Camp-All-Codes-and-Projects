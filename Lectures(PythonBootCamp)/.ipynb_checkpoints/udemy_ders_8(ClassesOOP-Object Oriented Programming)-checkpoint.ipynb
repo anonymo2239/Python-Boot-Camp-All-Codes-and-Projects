{
 "cells": [
  {
   "cell_type": "code",
   "execution_count": 1,
   "id": "7ffb0132",
   "metadata": {},
   "outputs": [],
   "source": [
    "alperenName = \"Alperen\""
   ]
  },
  {
   "cell_type": "code",
   "execution_count": 2,
   "id": "80692cdc",
   "metadata": {},
   "outputs": [],
   "source": [
    "alperenAge = 19"
   ]
  },
  {
   "cell_type": "code",
   "execution_count": 3,
   "id": "8aa7283e",
   "metadata": {},
   "outputs": [],
   "source": [
    "alperenGender = \"Male\""
   ]
  },
  {
   "cell_type": "code",
   "execution_count": 4,
   "id": "16eeccfc",
   "metadata": {},
   "outputs": [],
   "source": [
    "batuName = \"Baturalp\""
   ]
  },
  {
   "cell_type": "code",
   "execution_count": 5,
   "id": "eede5ff9",
   "metadata": {},
   "outputs": [],
   "source": [
    "batuAge = \"8\""
   ]
  },
  {
   "cell_type": "code",
   "execution_count": 6,
   "id": "fba167c5",
   "metadata": {},
   "outputs": [],
   "source": [
    "batuGender = \"Male\""
   ]
  },
  {
   "cell_type": "code",
   "execution_count": 17,
   "id": "f1e47178",
   "metadata": {},
   "outputs": [],
   "source": [
    "class Person():\n",
    "    name = \"\"\n",
    "    age = 0"
   ]
  },
  {
   "cell_type": "code",
   "execution_count": 18,
   "id": "e4b3d511",
   "metadata": {},
   "outputs": [],
   "source": [
    "alperen = Person()\n",
    "batu = Person()"
   ]
  },
  {
   "cell_type": "code",
   "execution_count": 20,
   "id": "e4041e1f",
   "metadata": {},
   "outputs": [],
   "source": [
    "alperen.name = \"Alperen\"\n",
    "alperen.age = 18"
   ]
  },
  {
   "cell_type": "code",
   "execution_count": 13,
   "id": "df98da6c",
   "metadata": {},
   "outputs": [],
   "source": [
    "batu.name = \"Baturalp\"\n",
    "batu.age = 8"
   ]
  },
  {
   "cell_type": "code",
   "execution_count": 21,
   "id": "69ef7f92",
   "metadata": {},
   "outputs": [
    {
     "name": "stdout",
     "output_type": "stream",
     "text": [
      "\n"
     ]
    }
   ],
   "source": [
    "print(batu.name)"
   ]
  },
  {
   "cell_type": "code",
   "execution_count": 28,
   "id": "68ecaa3c",
   "metadata": {},
   "outputs": [],
   "source": [
    "class Person2():\n",
    "    name = \"\"\n",
    "    age = 0\n",
    "    gender = \"\"\n",
    "    \n",
    "    #methods, initializer \n",
    "    def __init__(self):\n",
    "        print(\"init executed\")\n",
    "    #Her obje(nesne) olusturdugumuzda bu fonksiyon calistirilacak. C# taki CONSTRUCTOR METHODlar gibi."
   ]
  },
  {
   "cell_type": "code",
   "execution_count": 29,
   "id": "e43e54c6",
   "metadata": {},
   "outputs": [
    {
     "name": "stdout",
     "output_type": "stream",
     "text": [
      "init executed\n"
     ]
    }
   ],
   "source": [
    "mustafa = Person2()"
   ]
  },
  {
   "cell_type": "code",
   "execution_count": 32,
   "id": "b86b6512",
   "metadata": {},
   "outputs": [
    {
     "name": "stdout",
     "output_type": "stream",
     "text": [
      "init executed\n"
     ]
    }
   ],
   "source": [
    "verstappen = Person2()"
   ]
  },
  {
   "cell_type": "code",
   "execution_count": 46,
   "id": "61ac80fd",
   "metadata": {},
   "outputs": [],
   "source": [
    "#ayni fonksiyonu tekrar yazarsak:\n",
    "class Person3():\n",
    "    name = \"\"\n",
    "    age = 0\n",
    "    gender = \"\"\n",
    "    \n",
    "    def __init__(self, nameInput, ageInput, genderInput):\n",
    "        name = nameInput\n",
    "        age = ageInput\n",
    "        gender = genderInput"
   ]
  },
  {
   "cell_type": "code",
   "execution_count": 47,
   "id": "376a1861",
   "metadata": {},
   "outputs": [],
   "source": [
    "alperen = Person3(\"Alperen\", 18, \"Male\")"
   ]
  },
  {
   "cell_type": "code",
   "execution_count": 48,
   "id": "0ebfca74",
   "metadata": {},
   "outputs": [
    {
     "data": {
      "text/plain": [
       "''"
      ]
     },
     "execution_count": 48,
     "metadata": {},
     "output_type": "execute_result"
    }
   ],
   "source": [
    "alperen.name "
   ]
  },
  {
   "cell_type": "code",
   "execution_count": 49,
   "id": "196712c6",
   "metadata": {},
   "outputs": [
    {
     "data": {
      "text/plain": [
       "0"
      ]
     },
     "execution_count": 49,
     "metadata": {},
     "output_type": "execute_result"
    }
   ],
   "source": [
    "alperen.age"
   ]
  },
  {
   "cell_type": "code",
   "execution_count": 50,
   "id": "1badba78",
   "metadata": {},
   "outputs": [],
   "source": [
    "#neden bos cikiyor?? #Cunku self kullanmadik, self karisikligi onleyen bir funct dur."
   ]
  },
  {
   "cell_type": "code",
   "execution_count": 87,
   "id": "78653bb5",
   "metadata": {},
   "outputs": [],
   "source": [
    "class Person4():\n",
    "    #property\n",
    "    #name = \"\"\n",
    "    #age = 0\n",
    "    #gender = \"\"\n",
    "    job = \"\"\n",
    "    \n",
    "    #initializer method\n",
    "    def __init__(self, name, age, gender):\n",
    "        self.name = name#bunlari ayni isimde yazabiliriz. np\n",
    "        self.age = age\n",
    "        self.gender = gender\n",
    "    #method\n",
    "    def printName(self):\n",
    "        print(self.job)\n",
    "#python da properties i bile yazmaya gerek yok initializer'i calistirdigimiz zaman otomatik anliyor."
   ]
  },
  {
   "cell_type": "code",
   "execution_count": 88,
   "id": "97c560ed",
   "metadata": {},
   "outputs": [],
   "source": [
    "mahmut = Person4(\"Alperen\",18,\"Male\")"
   ]
  },
  {
   "cell_type": "code",
   "execution_count": 89,
   "id": "ead17281",
   "metadata": {},
   "outputs": [
    {
     "data": {
      "text/plain": [
       "'Alperen'"
      ]
     },
     "execution_count": 89,
     "metadata": {},
     "output_type": "execute_result"
    }
   ],
   "source": [
    "mahmut.name"
   ]
  },
  {
   "cell_type": "code",
   "execution_count": 90,
   "id": "658ca68f",
   "metadata": {},
   "outputs": [
    {
     "data": {
      "text/plain": [
       "18"
      ]
     },
     "execution_count": 90,
     "metadata": {},
     "output_type": "execute_result"
    }
   ],
   "source": [
    "mahmut.age"
   ]
  },
  {
   "cell_type": "code",
   "execution_count": 91,
   "id": "dfee0d3f",
   "metadata": {},
   "outputs": [
    {
     "data": {
      "text/plain": [
       "'Male'"
      ]
     },
     "execution_count": 91,
     "metadata": {},
     "output_type": "execute_result"
    }
   ],
   "source": [
    "mahmut.gender"
   ]
  },
  {
   "cell_type": "code",
   "execution_count": 92,
   "id": "e2b412c5",
   "metadata": {},
   "outputs": [
    {
     "name": "stdout",
     "output_type": "stream",
     "text": [
      "\n"
     ]
    }
   ],
   "source": [
    "mahmut.printName()"
   ]
  },
  {
   "cell_type": "code",
   "execution_count": 95,
   "id": "03f58705",
   "metadata": {},
   "outputs": [],
   "source": [
    "mahmut.job = \"Developer\""
   ]
  },
  {
   "cell_type": "code",
   "execution_count": 98,
   "id": "86f4700d",
   "metadata": {},
   "outputs": [
    {
     "name": "stdout",
     "output_type": "stream",
     "text": [
      "Developer\n"
     ]
    }
   ],
   "source": [
    "mahmut.printName()"
   ]
  },
  {
   "cell_type": "code",
   "execution_count": null,
   "id": "a1bd5918",
   "metadata": {},
   "outputs": [],
   "source": []
  }
 ],
 "metadata": {
  "kernelspec": {
   "display_name": "Python 3 (ipykernel)",
   "language": "python",
   "name": "python3"
  },
  "language_info": {
   "codemirror_mode": {
    "name": "ipython",
    "version": 3
   },
   "file_extension": ".py",
   "mimetype": "text/x-python",
   "name": "python",
   "nbconvert_exporter": "python",
   "pygments_lexer": "ipython3",
   "version": "3.10.9"
  }
 },
 "nbformat": 4,
 "nbformat_minor": 5
}
