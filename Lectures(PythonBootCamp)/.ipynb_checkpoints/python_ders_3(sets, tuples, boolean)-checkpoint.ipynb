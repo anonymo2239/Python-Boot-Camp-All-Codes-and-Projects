{
 "cells": [
  {
   "cell_type": "code",
   "execution_count": 2,
   "id": "a79ade68",
   "metadata": {},
   "outputs": [],
   "source": [
    "myList = [10,20,30,40,30,20,20]"
   ]
  },
  {
   "cell_type": "code",
   "execution_count": 3,
   "id": "31075b18",
   "metadata": {},
   "outputs": [],
   "source": [
    "my_set = set(myList)"
   ]
  },
  {
   "cell_type": "code",
   "execution_count": 4,
   "id": "31fa7b9f",
   "metadata": {},
   "outputs": [
    {
     "data": {
      "text/plain": [
       "{10, 20, 30, 40}"
      ]
     },
     "execution_count": 4,
     "metadata": {},
     "output_type": "execute_result"
    }
   ],
   "source": [
    "my_set"
   ]
  },
  {
   "cell_type": "code",
   "execution_count": 5,
   "id": "d73fc999",
   "metadata": {},
   "outputs": [],
   "source": [
    "my_set.add(40)"
   ]
  },
  {
   "cell_type": "code",
   "execution_count": 6,
   "id": "77a676b2",
   "metadata": {},
   "outputs": [
    {
     "data": {
      "text/plain": [
       "{10, 20, 30, 40}"
      ]
     },
     "execution_count": 6,
     "metadata": {},
     "output_type": "execute_result"
    }
   ],
   "source": [
    "my_set"
   ]
  },
  {
   "cell_type": "code",
   "execution_count": 7,
   "id": "4cef12d4",
   "metadata": {},
   "outputs": [],
   "source": [
    "mySet = my_set"
   ]
  },
  {
   "cell_type": "code",
   "execution_count": 10,
   "id": "99bdced4",
   "metadata": {},
   "outputs": [
    {
     "data": {
      "text/plain": [
       "(None, None)"
      ]
     },
     "execution_count": 10,
     "metadata": {},
     "output_type": "execute_result"
    }
   ],
   "source": [
    "mySet.add(5), mySet.add(50)"
   ]
  },
  {
   "cell_type": "code",
   "execution_count": 11,
   "id": "b8bc52c7",
   "metadata": {},
   "outputs": [
    {
     "data": {
      "text/plain": [
       "{5, 10, 20, 30, 40, 50}"
      ]
     },
     "execution_count": 11,
     "metadata": {},
     "output_type": "execute_result"
    }
   ],
   "source": [
    "mySet"
   ]
  },
  {
   "cell_type": "code",
   "execution_count": 12,
   "id": "64f5cbba",
   "metadata": {},
   "outputs": [],
   "source": [
    "mySet2 = {30,40,60,70}"
   ]
  },
  {
   "cell_type": "code",
   "execution_count": 13,
   "id": "b2752106",
   "metadata": {},
   "outputs": [
    {
     "data": {
      "text/plain": [
       "{5, 10, 20, 30, 40, 50, 60, 70}"
      ]
     },
     "execution_count": 13,
     "metadata": {},
     "output_type": "execute_result"
    }
   ],
   "source": [
    "mySet.union(mySet2)"
   ]
  },
  {
   "cell_type": "code",
   "execution_count": 14,
   "id": "5b238198",
   "metadata": {},
   "outputs": [
    {
     "data": {
      "text/plain": [
       "{30, 40}"
      ]
     },
     "execution_count": 14,
     "metadata": {},
     "output_type": "execute_result"
    }
   ],
   "source": [
    "mySet.intersection(mySet2)"
   ]
  },
  {
   "cell_type": "code",
   "execution_count": 22,
   "id": "46700e62",
   "metadata": {},
   "outputs": [
    {
     "data": {
      "text/plain": [
       "{60, 70}"
      ]
     },
     "execution_count": 22,
     "metadata": {},
     "output_type": "execute_result"
    }
   ],
   "source": [
    "mySet2.difference(mySet)"
   ]
  },
  {
   "cell_type": "code",
   "execution_count": 26,
   "id": "40aa8188",
   "metadata": {},
   "outputs": [],
   "source": [
    "countryList = [\"de\", \"fr\", \"tr\", \"tr\", \"tr\", \"fr\", \"fr\", \"de\", \"nl\", \"de\", \"us\"]"
   ]
  },
  {
   "cell_type": "code",
   "execution_count": 27,
   "id": "3b35d53f",
   "metadata": {},
   "outputs": [
    {
     "data": {
      "text/plain": [
       "5"
      ]
     },
     "execution_count": 27,
     "metadata": {},
     "output_type": "execute_result"
    }
   ],
   "source": [
    "len(set(countryList))"
   ]
  },
  {
   "cell_type": "code",
   "execution_count": 28,
   "id": "a90584bc",
   "metadata": {},
   "outputs": [],
   "source": [
    "emptyList = []"
   ]
  },
  {
   "cell_type": "code",
   "execution_count": 33,
   "id": "2b6b9d2c",
   "metadata": {},
   "outputs": [
    {
     "name": "stdout",
     "output_type": "stream",
     "text": [
      "40\n"
     ]
    }
   ],
   "source": [
    "emptyList.append(int(input()))"
   ]
  },
  {
   "cell_type": "code",
   "execution_count": 34,
   "id": "2e0e6e3d",
   "metadata": {},
   "outputs": [
    {
     "data": {
      "text/plain": [
       "['50', 50, 40]"
      ]
     },
     "execution_count": 34,
     "metadata": {},
     "output_type": "execute_result"
    }
   ],
   "source": [
    "emptyList"
   ]
  },
  {
   "cell_type": "code",
   "execution_count": 35,
   "id": "f6b141e3",
   "metadata": {},
   "outputs": [],
   "source": [
    "emptySet = {}"
   ]
  },
  {
   "cell_type": "code",
   "execution_count": 36,
   "id": "7fd89fb3",
   "metadata": {},
   "outputs": [
    {
     "data": {
      "text/plain": [
       "dict"
      ]
     },
     "execution_count": 36,
     "metadata": {},
     "output_type": "execute_result"
    }
   ],
   "source": [
    "type(emptySet)"
   ]
  },
  {
   "cell_type": "code",
   "execution_count": 48,
   "id": "5a46b797",
   "metadata": {},
   "outputs": [],
   "source": [
    "emptySet = set()"
   ]
  },
  {
   "cell_type": "code",
   "execution_count": 49,
   "id": "6b7c8e5b",
   "metadata": {},
   "outputs": [
    {
     "data": {
      "text/plain": [
       "set"
      ]
     },
     "execution_count": 49,
     "metadata": {},
     "output_type": "execute_result"
    }
   ],
   "source": [
    "type(emptySet)"
   ]
  },
  {
   "cell_type": "code",
   "execution_count": 51,
   "id": "5babe919",
   "metadata": {},
   "outputs": [
    {
     "data": {
      "text/plain": [
       "0"
      ]
     },
     "execution_count": 51,
     "metadata": {},
     "output_type": "execute_result"
    }
   ],
   "source": [
    "len(emptySet)"
   ]
  },
  {
   "cell_type": "code",
   "execution_count": 52,
   "id": "5c5774ea",
   "metadata": {},
   "outputs": [],
   "source": [
    "emptySet.add(10)\n",
    "emptySet.add(10)\n",
    "emptySet.add(10)\n",
    "emptySet.add(20)\n",
    "emptySet.add(30)"
   ]
  },
  {
   "cell_type": "code",
   "execution_count": 53,
   "id": "7a63617c",
   "metadata": {},
   "outputs": [
    {
     "data": {
      "text/plain": [
       "{10, 20, 30}"
      ]
     },
     "execution_count": 53,
     "metadata": {},
     "output_type": "execute_result"
    }
   ],
   "source": [
    "emptySet"
   ]
  },
  {
   "cell_type": "code",
   "execution_count": 54,
   "id": "220b0020",
   "metadata": {},
   "outputs": [],
   "source": [
    "emptyList = list()"
   ]
  },
  {
   "cell_type": "code",
   "execution_count": 55,
   "id": "3efbd9ba",
   "metadata": {},
   "outputs": [],
   "source": [
    "emptyList.append(10)\n",
    "emptyList.append(30)\n",
    "emptyList.append(20)\n",
    "emptyList.append(10)"
   ]
  },
  {
   "cell_type": "code",
   "execution_count": 56,
   "id": "ef6354ca",
   "metadata": {},
   "outputs": [
    {
     "data": {
      "text/plain": [
       "[10, 30, 20, 10]"
      ]
     },
     "execution_count": 56,
     "metadata": {},
     "output_type": "execute_result"
    }
   ],
   "source": [
    "emptyList"
   ]
  },
  {
   "cell_type": "code",
   "execution_count": null,
   "id": "60822e8c",
   "metadata": {},
   "outputs": [],
   "source": []
  }
 ],
 "metadata": {
  "kernelspec": {
   "display_name": "Python 3 (ipykernel)",
   "language": "python",
   "name": "python3"
  },
  "language_info": {
   "codemirror_mode": {
    "name": "ipython",
    "version": 3
   },
   "file_extension": ".py",
   "mimetype": "text/x-python",
   "name": "python",
   "nbconvert_exporter": "python",
   "pygments_lexer": "ipython3",
   "version": "3.10.9"
  }
 },
 "nbformat": 4,
 "nbformat_minor": 5
}
