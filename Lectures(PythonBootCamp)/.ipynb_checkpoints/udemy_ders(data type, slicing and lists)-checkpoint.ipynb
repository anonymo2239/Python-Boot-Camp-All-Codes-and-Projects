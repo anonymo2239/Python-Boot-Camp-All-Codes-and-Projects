{
 "cells": [
  {
   "cell_type": "code",
   "execution_count": 25,
   "id": "804880de",
   "metadata": {},
   "outputs": [],
   "source": [
    "myString = \"Merhaba Alperen\""
   ]
  },
  {
   "cell_type": "code",
   "execution_count": 26,
   "id": "280170c4",
   "metadata": {},
   "outputs": [
    {
     "data": {
      "text/plain": [
       "['Merhaba', 'Alperen']"
      ]
     },
     "execution_count": 26,
     "metadata": {},
     "output_type": "execute_result"
    }
   ],
   "source": [
    "myString.split()"
   ]
  },
  {
   "cell_type": "code",
   "execution_count": 27,
   "id": "aaf323d2",
   "metadata": {},
   "outputs": [
    {
     "data": {
      "text/plain": [
       "list"
      ]
     },
     "execution_count": 27,
     "metadata": {},
     "output_type": "execute_result"
    }
   ],
   "source": [
    "type(myString.split())"
   ]
  },
  {
   "cell_type": "code",
   "execution_count": 29,
   "id": "fbeff9bd",
   "metadata": {},
   "outputs": [],
   "source": [
    "myList = ['a', 2, \"Afyonlu\", 4, 23]"
   ]
  },
  {
   "cell_type": "code",
   "execution_count": 30,
   "id": "d015e03d",
   "metadata": {},
   "outputs": [
    {
     "data": {
      "text/plain": [
       "'Afyonlu'"
      ]
     },
     "execution_count": 30,
     "metadata": {},
     "output_type": "execute_result"
    }
   ],
   "source": [
    "myList[2]"
   ]
  },
  {
   "cell_type": "code",
   "execution_count": 37,
   "id": "67d52815",
   "metadata": {},
   "outputs": [
    {
     "data": {
      "text/plain": [
       "list"
      ]
     },
     "execution_count": 37,
     "metadata": {},
     "output_type": "execute_result"
    }
   ],
   "source": [
    "type(brianJohnson)"
   ]
  },
  {
   "cell_type": "code",
   "execution_count": 41,
   "id": "588bcde5",
   "metadata": {},
   "outputs": [
    {
     "data": {
      "text/plain": [
       "'THUNDERSTRUCK'"
      ]
     },
     "execution_count": 41,
     "metadata": {},
     "output_type": "execute_result"
    }
   ],
   "source": [
    "brianJohnson[4].upper()"
   ]
  }
 ],
 "metadata": {
  "kernelspec": {
   "display_name": "Python 3 (ipykernel)",
   "language": "python",
   "name": "python3"
  },
  "language_info": {
   "codemirror_mode": {
    "name": "ipython",
    "version": 3
   },
   "file_extension": ".py",
   "mimetype": "text/x-python",
   "name": "python",
   "nbconvert_exporter": "python",
   "pygments_lexer": "ipython3",
   "version": "3.10.9"
  }
 },
 "nbformat": 4,
 "nbformat_minor": 5
}
